{
  "cells": [
    {
      "cell_type": "markdown",
      "metadata": {
        "id": "xjpLf6zZL-U6"
      },
      "source": [
        "# Assignment 10: Learn to Write Like Shakespeare\n",
        "\n",
        "In this assignment we will implement a simple recurrent network with one hidden layer.\n",
        "We train this network on a medium-size poem \"The Sonnet\" written by William Shakespeare and use it for auto-completing sentences/phrases.\n",
        "\n",
        "For training the network, we will need to transform the text into something machine-processable.\n",
        "Basically, for each of the characters in the text, we provide a $D$-element one-hot encoding vector, where D is the total number of unique characters in the dataset.\n",
        "Character sequences of length $S$ will, hence, be turned into matrices of size $\\mathbf X = \\{\\vec x^{\\{s\\}}, 1 \\leq s\\leq S\\} \\in \\mathbb R^{S\\times D}$.\n",
        "For each input, we provide the target values $\\mathbf T$ of the same size, where the target for each sample is the next character: $\\vec t^{\\{s\\}} = \\vec x ^{\\{s+1\\}}$.\n",
        "\n",
        "To speed up processing, these sequences will be put into batches, i.e., $\\mathcal X, \\mathcal T \\in \\mathbb R^{B\\times S\\times D}$.\n",
        "This will automatically be achieved using the default PyTorch `DataLoader`.\n",
        "\n",
        "The data that we will use is originally provided here: http://raw.githubusercontent.com/brunoklein99/deep-learning-notes/master/shakespeare.txt"
      ]
    },
    {
      "cell_type": "markdown",
      "metadata": {
        "id": "xz5nYSElL-U-"
      },
      "source": [
        "## Data and Targets Preprocessing\n",
        "\n",
        "First, we need to load the whole dataset $\\vec c \\in \\mathbb R^N$, a vector of characters, and turn the data sequence into one-hot encodings.\n",
        "For this purpose, we need to know the number $D$ of unique characters in our text.\n",
        "For simplicity, we only consider lower-case characters and special symbols such as punctuation marks.\n",
        "Also, the newline characters `'\\n'` need to be handled -- you can also leave them inside and see what happens.\n",
        "\n",
        "Then, for each of the characters, we need to assign a one-hot encoding, and build sequences of encodings.\n",
        "For a given index $n$ into our data and a given sequence length $S$, we provide the input $\\mathbf X ^{[n]}$ and the target $\\mathbf T^{[n]}$ as follows:\n",
        "\n",
        "\n",
        "  $$\\mathbf X^{[n]} = \\{\\mathrm{enc}(n-S+s-1) | 1 \\leq s \\leq S\\}$$\n",
        "  $$\\mathbf T^{[n]} = \\{\\mathrm{enc}(n-S+s) | 1 \\leq s \\leq S\\}$$\n",
        "\n",
        "where $\\mathrm{enc}$ is a function that returns the one-hot encoding for the character at the specified location in the original dataset $\\vec c$. \n",
        "In the case that the computation ($n-S+s-1$ or $n-S+s$) results in a negative value $\\vec 0$ should be used instead. \n",
        "\n",
        "For example, for the original text `abcde`, sequence length $S=7$ and index $n=4$, we would have the representations for $x = $ `000abcd` and $t=$ `00abcde`.\n",
        "\n",
        "Finally, we implement our own `Dataset` that returns the input and target encodings for any element of our input text."
      ]
    },
    {
      "cell_type": "markdown",
      "metadata": {
        "id": "6Il9b35DL-U_"
      },
      "source": [
        "### Download the data file\n",
        "\n",
        "Please run the code block below to download the data file."
      ]
    },
    {
      "cell_type": "code",
      "execution_count": 10,
      "metadata": {
        "id": "Nk1OAbntL-U_"
      },
      "outputs": [],
      "source": [
        "import os\n",
        "import random\n",
        "import torch\n",
        "\n",
        "# download the data file\n",
        "filename = \"shakespeare.txt\"\n",
        "if not os.path.exists(filename):\n",
        "  url = \"http://raw.githubusercontent.com/brunoklein99/deep-learning-notes/master/\"\n",
        "  import urllib.request\n",
        "  urllib.request.urlretrieve(url+filename, filename)\n",
        "  print (\"Downloaded datafile\", filename)"
      ]
    },
    {
      "cell_type": "markdown",
      "metadata": {
        "id": "Bn8K8zI9L-VB"
      },
      "source": [
        "### Set up of the device to run everything"
      ]
    },
    {
      "cell_type": "code",
      "execution_count": 12,
      "metadata": {
        "id": "2qCTNwJuL-VB"
      },
      "outputs": [],
      "source": [
        "device = torch.device(\"cuda\" if torch.cuda.is_available() else \"cpu\")"
      ]
    },
    {
      "cell_type": "markdown",
      "metadata": {
        "id": "YT7FtilPL-VC"
      },
      "source": [
        "### Task 1: Data Characteristics\n",
        "\n",
        "Implement a function that:\n",
        "1. Loads all text data from the poem file `shakespeare.txt`, iterates through and collect all the lowercase data that we want to learn from.\n",
        "2. Create a list of unique characters contained in our data. This will allow us to obtain the dimension $D$.\n",
        "\n",
        "Note:\n",
        "\n",
        "* Here, we consider only lowercase characters to reduce the alphabet size. \n",
        "* Please make sure that you handle the newline character at the end of each line consistently.\n"
      ]
    },
    {
      "cell_type": "code",
      "execution_count": 102,
      "metadata": {
        "id": "aKYFN0p3L-VC"
      },
      "outputs": [],
      "source": [
        "# load all data from the text file\n",
        "def get_data(datafile='shakespeare.txt'):\n",
        "\n",
        "    data = []\n",
        "\n",
        "    # read/open the data file\n",
        "    file = open(datafile, 'r')\n",
        "    poem = file.read()\n",
        "    file.close()\n",
        "    # perform other operations such as handling new lines, empty lines, uppercase characters ...\n",
        "    poem = poem.lower()\n",
        "    data = list(poem)\n",
        "\n",
        "    # create a list of unique characters contained in data.\n",
        "    characters = list(set(poem))\n",
        "    characters.remove(\"\\n\")\n",
        "    characters.remove(\")\")\n",
        "    characters.remove(\"(\")\n",
        "\n",
        "    return data, characters"
      ]
    },
    {
      "cell_type": "code",
      "execution_count": 103,
      "metadata": {
        "colab": {
          "base_uri": "https://localhost:8080/"
        },
        "id": "IOhSFxNAL-VC",
        "outputId": "30671d71-5292-4c60-8b06-302156a87d00"
      },
      "outputs": [
        {
          "output_type": "stream",
          "name": "stdout",
          "text": [
            "Collected a total of 94275 elements of 35 unique characters\n"
          ]
        }
      ],
      "source": [
        "data, characters = get_data(datafile='shakespeare.txt')\n",
        "\n",
        "D = len(characters)\n",
        "print (f\"Collected a total of {len(data)} elements of {D} unique characters\")"
      ]
    },
    {
      "cell_type": "markdown",
      "metadata": {
        "id": "0JK1luucL-VD"
      },
      "source": [
        "### Task 2: One-hot Encoding\n",
        "\n",
        "Implement a dictionary that provides a unique one-hot encoding for each of the characters in the dataset. \n",
        "The dictionary takes as:\n",
        "\n",
        "1. the key a character\n",
        "2. its value is its one-hot vector representation of dimension $D$\n",
        "\n",
        "Each of the characters need to be represented by a one-hot encoding.\n",
        "Create a dictionary that provides the encoding for each unique character.\n",
        "\n",
        "Note:\n",
        "\n",
        "* You can use your own one-hot encoding procedure for the task."
      ]
    },
    {
      "cell_type": "code",
      "execution_count": 104,
      "metadata": {
        "id": "7kAZuXkyL-VD"
      },
      "outputs": [],
      "source": [
        "one_hot = dict()\n",
        "for i, char in enumerate(characters):\n",
        "  encoding = [0] * len(characters)\n",
        "  encoding[i] = 1\n",
        "  one_hot[char] = encoding"
      ]
    },
    {
      "cell_type": "markdown",
      "metadata": {
        "id": "I_I3LR4nL-VE"
      },
      "source": [
        "### Task 3: Sequence Coding\n",
        "\n",
        "Write a function that provides the inputs and targets for a given sequence of the specified sequence length and index.\n",
        "The last value of the target sequence should be the encoding of the character at the given index.\n",
        "If a character is requested from outside the data range, prepend the inputs (and the targets) with 0.\n",
        "Assure that $\\vec t^{\\{s\\}} = \\vec x^{\\{s+1\\}}$ $\\forall s<S$."
      ]
    },
    {
      "cell_type": "code",
      "source": [
        "def sequence(index, S):\n",
        "  # collect both input and target encodings\n",
        "  inputs, targets = [], []\n",
        "  # go through the sequence and turn characters into encodings\n",
        " \n",
        "  if (index-S-1)>=0:\n",
        "    inp_seq = data[index-S-1:index-1]\n",
        "    tar_seq = data[index-S:index]\n",
        "  elif (S-index) == 0:\n",
        "    inp_seq = data[:index]\n",
        "    tar_seq = data[1:index+1]\n",
        "  else:\n",
        "    zeros = S-index\n",
        "    inp_seq = zeros*[0] + data[:index]\n",
        "    tar_seq = (zeros-1)*[0] + data[:index+1]\n",
        "  for _char in inp_seq:\n",
        "    if _char not in one_hot.keys():\n",
        "      inputs.append(torch.tensor([0]*len(characters)))\n",
        "    else:\n",
        "      inputs.append(torch.tensor(one_hot[_char]))  \n",
        "  for _char in tar_seq:\n",
        "    if _char not in one_hot.keys():\n",
        "      targets.append(torch.tensor([0]*len(characters)))\n",
        "    else:\n",
        "      targets.append(torch.tensor(one_hot[_char]))\n",
        "\n",
        "\n",
        "  return torch.stack(inputs), torch.stack(targets)"
      ],
      "metadata": {
        "id": "kLg1pTLHIJsu"
      },
      "execution_count": 105,
      "outputs": []
    },
    {
      "cell_type": "markdown",
      "metadata": {
        "id": "K_JjZZtJL-VE"
      },
      "source": [
        "### Test 1: Sequences\n",
        "\n",
        "Get a sequence for size 5 with index 2. This test assures that the data and target vectors are as desired, i.e., the first elements are 0 vectors, and later one-hot encoded data is added."
      ]
    },
    {
      "cell_type": "code",
      "execution_count": 106,
      "metadata": {
        "id": "wufTsfyYL-VF"
      },
      "outputs": [],
      "source": [
        "# get sequence\n",
        "x,t = sequence(2,5)\n",
        "\n",
        "# check prepended zeros\n",
        "assert torch.all(x[:3] == 0)\n",
        "assert torch.all(t[:2] == 0)\n",
        "\n",
        "# check one-hot encoded inputs and targets\n",
        "assert torch.all(torch.sum(x[4:], axis=1) == 1)\n",
        "assert torch.all(torch.sum(t[3:], axis=1) == 1)"
      ]
    },
    {
      "cell_type": "markdown",
      "metadata": {
        "id": "4ldFrNmbL-VF"
      },
      "source": [
        "We use the standard data loader with a batch size of $B=256$. Theoretically, each training sample could have its own sequence length $S$. To enable batch processing, the sequence size must be the same for each element in the batch (otherwise it cannot be transformed as one large tensor). Thus, our dataset needs to have a fixed sequence size $S$. An exact value for $S$ can be selected by yourself.\n",
        "\n",
        "### Task 4: Dataset and Data Loader\n",
        "\n",
        "Implement a `Dataset` class derived from `torch.utils.data.Dataset` that provides $\\mathbf X^{[n]}$ and $\\mathbf T^{[n]}$. Implement three functions:\n",
        "\n",
        "1. The constructor `__init__(self, data, S)` that takes the dataset $\\vec c$ and (initial) sequence length $S$.\n",
        "2. The function `__len__(self)` that returns the number of samples in our dataset.\n",
        "3. Finally the index function `__getitem__(self, index)` that returns the sequences $\\mathbf X^{[n]}$ and $\\mathbf T^{[n]}$ for a given `index`. The function from Task 3 can be used for this.\n",
        "\n",
        "After implementing the `Dataset`, instantiate a `DatLoader` for the dataset with batch size of $B=256$.\n"
      ]
    },
    {
      "cell_type": "code",
      "execution_count": 107,
      "metadata": {
        "id": "l9_nhHLYL-VF"
      },
      "outputs": [],
      "source": [
        "class Dataset(torch.utils.data.Dataset):\n",
        "  def __init__(self, data, S):\n",
        "    # prepare the data as required\n",
        "    self.S = S\n",
        "    self.data = data\n",
        "\n",
        "  def __getitem__(self, index):\n",
        "    # return input and target value for the given index\n",
        "    self.inputs, self.targets = sequence(index, self.S)\n",
        "    return self.inputs, self.targets\n",
        "\n",
        "  def __len__(self):\n",
        "    # return the length of this dataset\n",
        "    return len(self.data)\n",
        "\n",
        "# instantiate dataset and data loader for a reasonable sequence length S\n",
        "dataset = Dataset(data, S=5)\n",
        "data_loader = torch.utils.data.DataLoader(dataset, batch_size=256, shuffle=True, drop_last=True)"
      ]
    },
    {
      "cell_type": "markdown",
      "metadata": {
        "id": "1WVuXzi_L-VF"
      },
      "source": [
        "### Test 2: Data Sizes\n",
        "\n",
        "Here we check that the shape of the input and target from all batches are appropriate."
      ]
    },
    {
      "cell_type": "code",
      "execution_count": 108,
      "metadata": {
        "id": "JIU4b4zkL-VF"
      },
      "outputs": [],
      "source": [
        "for x,t in data_loader:\n",
        "  dataset.S = random.choice(range(1,20))\n",
        "  assert x.shape[2] == D\n",
        "  assert x.shape == t.shape\n",
        "  assert torch.all(x[:, 1:, :] == t[:, :-1, :])"
      ]
    },
    {
      "cell_type": "markdown",
      "metadata": {
        "id": "nw0x5vDJL-VG"
      },
      "source": [
        "## Elman Network Implementation\n",
        "\n",
        "While there are implementations for recursive networks available in PyTorch, we here attempt our own implementation of the Elman network.\n",
        "The input to our network is a batch of sequences of dimension $\\mathcal X\\in \\mathbb R^{B\\times S\\times D}$.\n",
        "Our network contains three fully-connected layers with dimensions $\\mathbf W^{(1)} \\in \\mathbb R^{K\\times D}$, $\\mathbf W^{(r)} \\in \\mathbb R^{K\\times K}$ and $\\mathbf W^{2} \\in \\mathbb R^{D\\times K}$ (plus bias neurons as handled by PyTorch).\n",
        "The network processing will iterate through our sequence, and processes all elements in the batch simultaneously.\n",
        "First, the hidden activation $\\mathbf H^{\\{0\\}} \\in \\mathbb R^{B,K}$ is initialized with 0.\n",
        "Then, we iterate over $1\\leq s\\leq S$ to process:\n",
        "\n",
        "$\\mathbf A^{\\{s\\}} = \\mathbf W^{(1)} \\mathbf X^{\\{s\\}} + \\mathbf W^{(r)} \\mathbf H^{\\{s-1\\}}$ $~~~~~~~~~$\n",
        "$\\mathbf H^{\\{s\\}}= g\\bigl(\\mathbf A^{\\{s\\}}\\bigr)$ $~~~~~~~~~$ \n",
        "$\\mathbf Z^{\\{s\\}} = \\mathbf W^{(2)} \\mathbf H^{\\{s\\}}$\n",
        "\n",
        "where $g$ is the activation function, `PReLU` in our case, and $\\mathbf X^{\\{s\\}}$ is the data matrix stored as $\\mathcal X_{:,s,:}$. The final output of our network $\\mathcal Z$ is a combination of all $\\mathbf Z^{\\{s\\}}$ matrices in dimension as our input $\\mathcal Z\\in \\mathbb R^{B\\times S\\times D}$.\n",
        "\n",
        "For training, we need to compare the output $\\mathcal Z$ of our network with our target batch $\\mathcal T$. We will make use of the categorical cross-entropy loss as implemented in PyTorch's `torch.nn.CrossEntropyLoss`. In our case, we will implicitly compute:\n",
        "\n",
        "$$\\mathcal J^{CCE} = \\frac1{SB} \\sum\\limits_{b=1}^B \\sum\\limits_{s=1}^S \\sum\\limits_{d=1}^D \\mathcal T_{b,s,d} \\log \\mathcal Y_{b,s,d}$$\n",
        "\n",
        "where $\\mathcal Y_{b,s,d}$ is the result of SoftMax over the dimension $D$, which is the last index of our tensor.\n",
        "As the documentation of `torch.nn.CrossEntropyLoss` states, the SoftMax is always computed across the `second` dimension of the data tensor (which would be $s$ in our case).\n",
        "Hence, we need to make sure to reorder the dimensions of the tensors $\\mathcal X$ and $\\mathcal T$ such that the computation is correct."
      ]
    },
    {
      "cell_type": "markdown",
      "metadata": {
        "id": "ACgKq7cGL-VG"
      },
      "source": [
        "### Task 5: Elman Network Implementation\n",
        "\n",
        "Manually implement an Elman network derived from `torch.nn.Module` class using one fully-connected layer for hidden, recurrent and output units.\n",
        "\n",
        "1. In the constructor, instantiate all required layers and activation functions for the given values of $D$ and $K$.\n",
        "2. In the `forward` function, implement the processing of the input in the Elman network. Make sure that logit values are computed and returned for each element in the sequence. Try to use as much tensor processing as possible. Remember the shape of $\\mathcal X$ is $B\\times S\\times D$, and when going through the sequence, we need to process $\\vec x^{\\{s\\}}$ separately, while working on all batch elements simultaneously.\n",
        "\n",
        "\n",
        "Note:\n",
        "\n",
        "* You can also make use of `torch.nn.RNN` Pytorch module to build the recurrent layer and use a fully connected layer on top to implement the Elman network. However, using this module might not be easy."
      ]
    },
    {
      "cell_type": "code",
      "execution_count": 120,
      "metadata": {
        "id": "Ii-D6mrML-VG"
      },
      "outputs": [],
      "source": [
        "import torch.nn.init as init\n",
        "class ElmanNetwork(torch.nn.Module):\n",
        "  def __init__(self, D, K):\n",
        "    super(ElmanNetwork,self).__init__()\n",
        "    self.K = K\n",
        "    self.W1 = torch.zeros(K, D).to(device)\n",
        "    self.Wr = torch.zeros(K, K).to(device)\n",
        "    self.W2 = torch.zeros(D, K).to(device)\n",
        "\n",
        "    init.xavier_uniform_(self.W1)\n",
        "    init.xavier_uniform_(self.Wr)\n",
        "    init.xavier_uniform_(self.W2)\n",
        "  \n",
        "    self.activation = torch.nn.PReLU()\n",
        "\n",
        "  def forward(self, x):\n",
        "    # get the shape of the data\n",
        "    B, S, D = x.shape\n",
        "    # initialize the hidden vector in the desired size with 0\n",
        "    # remember to put it on the device\n",
        "    h_s = torch.zeros(B,self.K).to(device)\n",
        "    # store all logits (we will need them in the loss function)\n",
        "    Z = torch.empty(x.shape).to(device)\n",
        "    # iterate over the sequence\n",
        "    for s in range(S):\n",
        "      # use current sequence item\n",
        "      x_s = x[:,s,:]\n",
        "      # compute recurrent activation\n",
        "      a_s = torch.matmul(x_s, self.W1.t()) + torch.matmul(h_s, self.Wr)\n",
        "      # apply activation function\n",
        "      h_s = self.activation(a_s)\n",
        "      # compute logit values\n",
        "      z = torch.matmul(h_s , self.W2.t())\n",
        "      # store logit value\n",
        "      Z[:,s] = z\n",
        "      \n",
        "    # return logits for all sequence elements\n",
        "    return Z"
      ]
    },
    {
      "cell_type": "markdown",
      "metadata": {
        "id": "Pe1CgEzUL-VG"
      },
      "source": [
        "### Test 3: Network Output\n",
        "\n",
        "We instantiate an Elman network with $K=1000$ hidden units.\n",
        "We generate test samples in a given format, and forward them through the network and assure that the results are in the required dimensionality."
      ]
    },
    {
      "cell_type": "code",
      "execution_count": 121,
      "metadata": {
        "id": "_x9qy-X-L-VG"
      },
      "outputs": [],
      "source": [
        "network = ElmanNetwork(D, 1000).to(device)\n",
        "\n",
        "with torch.no_grad():\n",
        "  test_input = torch.empty(7, 25, D, device=device)\n",
        "  test_output = network(test_input)\n",
        "  assert test_input.shape == test_output.shape"
      ]
    },
    {
      "cell_type": "markdown",
      "metadata": {
        "id": "Ugk1Uvf_L-VH"
      },
      "source": [
        "### Task 6: Training Loop\n",
        "\n",
        "To train the Elman network, we will use categorical cross-entropy loss, averaged over all samples in the sequence.\n",
        "For each batch, we can optionally use a different sequence size -- while the size inside a batch must stay the same.\n",
        "\n",
        "According to the PyTorch documentation, the `CrossEntropyLoss` handles logits and targets in shape $B\\times O\\times\\ldots$.\n",
        "In our case, logits and targets are in dimension $B\\times S\\times O$.\n",
        "Hence, we need to make sure that we re-order the indexes such that we fulfil the requirement; you might want to use the `permute` or `transpose` operator.\n",
        "\n",
        "Instantiate the optimizer with an appropriate learning rate $\\eta$ and the loss function.\n",
        "Implement the training loop for 20 epochs -- more epochs will further improve the results.\n",
        "Compute the average training loss per epoch.\n",
        "\n",
        "Note that 20 epochs will train for about 2 minutes, if implemented in an optimized way, on the GPU. Non-optimized training will take considerably longer.\n",
        "\n",
        "WARNING: `CrossEntropyLoss` will not complain when the index order for the output $\\mathcal Y$ and targets $\\mathcal T$ is incorrect, just the results will be wrong."
      ]
    },
    {
      "cell_type": "code",
      "execution_count": 122,
      "metadata": {
        "id": "BjfvPkMJL-VH",
        "outputId": "8d1b73d2-a167-4c2c-8203-71a6ce794638",
        "colab": {
          "base_uri": "https://localhost:8080/"
        }
      },
      "outputs": [
        {
          "output_type": "stream",
          "name": "stdout",
          "text": [
            "Epoch 1; train loss: 3.45731\n",
            "Epoch 2; train loss: 3.45731\n",
            "Epoch 3; train loss: 3.45728\n",
            "Epoch 4; train loss: 3.45735\n",
            "Epoch 5; train loss: 3.45738\n",
            "Epoch 6; train loss: 3.45738\n",
            "Epoch 7; train loss: 3.45734\n",
            "Epoch 8; train loss: 3.45727\n",
            "Epoch 9; train loss: 3.45738\n",
            "Epoch 10; train loss: 3.45727\n"
          ]
        }
      ],
      "source": [
        "network = ElmanNetwork(D, 1000).to(device)\n",
        "optimizer = torch.optim.Adam(network.parameters(), lr=0.000000001)\n",
        "loss =  torch.nn.CrossEntropyLoss()\n",
        "\n",
        "for epoch in range(10):\n",
        "  # create random sequence\n",
        "  train_loss = 0.\n",
        "\n",
        "  for x, t in data_loader:\n",
        "    # compute network output\n",
        "    optimizer.zero_grad()\n",
        "    x = x.to(device).float()\n",
        "    t = t.to(device).float()\n",
        "    z = network(x)\n",
        "    # compute loss, arrange order of logits and targets\n",
        "    z = z.permute(0, 2, 1)\n",
        "    t = t.permute(0, 2, 1)\n",
        "    #J = loss(z, t)\n",
        "    J = loss(z[:,:,-1], t[:,:,-1])\n",
        "    \n",
        "    # compute gradient for this batch\n",
        "    J.backward()\n",
        "    optimizer.step()\n",
        "\n",
        "    # compute average loss\n",
        "    train_loss += J.to(\"cpu\")\n",
        "    #print(J.to(\"cpu\"))\n",
        "\n",
        "  # print average loss for training and validation\n",
        "  print(f\"\\rEpoch {epoch+1}; train loss: {train_loss/len(data_loader):1.5f}\")"
      ]
    },
    {
      "cell_type": "markdown",
      "metadata": {
        "id": "7S6JyqwFL-VH"
      },
      "source": [
        "## Writing a Poem\n",
        "\n",
        "With the trained network, we will turn it into a poet. \n",
        "Given some initial seed strings, we let the network predict the next character, which we append to our text. We repeat this process until we have produced a given string size.\n",
        "\n",
        "For this purpose, we need to implement three functions. \n",
        "The first function needs to turn a given text into something that the network understands as input. \n",
        "The second function needs to interpret the network output, i.e., it needs to select a character from the predicted logits. \n",
        "There, we can implement two ways:\n",
        "1. We take the character with the highest predicted class:\n",
        "$$o^* = \\argmax_o \\vec y^{\\{S\\}}_o$$\n",
        "2. We can also perform probability sampling, where each of the sample is drawn based on the probability that SoftMax provides -- such a function is for example implemented in `random.choices`.\n",
        "\n",
        "Finally, we need to implement a function to iterstively call the encoding and prediction functions."
      ]
    },
    {
      "cell_type": "markdown",
      "metadata": {
        "id": "DCZvb_F6L-VH"
      },
      "source": [
        "### Task 7: Text Encoding\n",
        "\n",
        "For a given text (a sequence of $S$ characters), provide the encoding $\\mathcal X \\in R^{B\\times S\\times D}$.\n",
        "Assure that the batch dimension for $B=1$ is added to the encoding, so that the network is able to handle it."
      ]
    },
    {
      "cell_type": "code",
      "execution_count": 123,
      "metadata": {
        "id": "9exXomqvL-VH"
      },
      "outputs": [],
      "source": [
        "def encode(text):\n",
        "  encoding = []\n",
        "  for _char in text:\n",
        "    if _char in one_hot.keys():\n",
        "      encode = one_hot[_char]\n",
        "    else:\n",
        "      encode = [0]*len(characters)\n",
        "    encoding.append(torch.tensor(encode))\n",
        "\n",
        "  encoding = torch.stack(encoding).unsqueeze(0)\n",
        "  return encoding"
      ]
    },
    {
      "cell_type": "markdown",
      "metadata": {
        "id": "6vAXEQHrL-VH"
      },
      "source": [
        "### Task 8: Next Element Prediction\n",
        "\n",
        "Write a function that predicts the next character of the sequence based on the logit values obtained from the network.\n",
        "Implement both ways:\n",
        "1. Using the maximum probability, i.e., selecting the character with the highest SoftMax probability $\\max_o z^{\\{S\\}}_o$ and append this character to the `text`.\n",
        "2. Using a probability sampling, i.e., we randomly draw a character based on the SoftMax probability distribution $\\vec y^{\\{S\\}}$. `random.choices` provides the possibility to pass a list of characters and a list of probabilities.\n",
        "\n",
        "Use the Boolean parameter `use_best` of your function to distinguish the two cases. \n",
        "\n",
        "Note:\n",
        "\n",
        "* In our case, we are only interested in the logit for the last element of our sequences, i.e., $\\vec z^{\\{S\\}}$.\n",
        "* The logits are in dimension $\\mathcal Z \\in \\mathbb R^{B\\times S\\times D}$ with $B=1$, and we are generally only interested in the prediction for the last sequence item."
      ]
    },
    {
      "cell_type": "code",
      "execution_count": 124,
      "metadata": {
        "id": "diK69VExL-VH"
      },
      "outputs": [],
      "source": [
        "import random\n",
        "def predict(z, use_best=True):\n",
        "  # select the appropriate logits\n",
        "  z_S = z[0][-1]\n",
        "  if use_best:\n",
        "    # take character with maximum probability\n",
        "    max_index = torch.argmax(z_S)\n",
        "    next_char = torch.zeros_like(z_S)\n",
        "    next_char[max_index] = 1\n",
        "  else:\n",
        "    # sample character based on class probabilities\n",
        "    random_index = torch.randint(0, len(z_S), (1,))\n",
        "    next_char = torch.zeros_like(z_S)\n",
        "    next_char[random_index] = 1\n",
        "    #next_char = torch.multinomial(z_S, num_samples=1)\n",
        "  return next_char"
      ]
    },
    {
      "cell_type": "markdown",
      "metadata": {
        "id": "WArqPZAPL-VH"
      },
      "source": [
        "### Task 9: Sequence Completion\n",
        "\n",
        "\n",
        "Write a function that takes a `seed` text which it will complete with the given number of characters.\n",
        "Write a loop that turns the current `text` into an encoded sequence of its characters using the function from Task 7.\n",
        "Forward the text through the network and take the prediction of the last sequence item $\\vec z^{\\{S\\}}$ using the function from Task 8.\n",
        "Append this to the current text (remember that Python strings are immutable).\n",
        "Repeat this loop 80 times, and return the resulting `text`."
      ]
    },
    {
      "cell_type": "code",
      "execution_count": 125,
      "metadata": {
        "id": "IxsJsNThL-VI"
      },
      "outputs": [],
      "source": [
        "def sequence_completion(seed, count, use_best):\n",
        "  # we start with the given seed\n",
        "  text = seed\n",
        "  for i in range(count):\n",
        "    # turn current text to one-hot batch\n",
        "    x = encode(text).to(device).float()\n",
        "    # predict the next character\n",
        "    z = network(x)\n",
        "    next_char = predict(z, use_best=use_best)\n",
        "    # append character to text\n",
        "    next_char = next_char.to(\"cpu\").int().tolist()\n",
        "    next_char = decode(next_char)\n",
        "    text = text+next_char\n",
        "    \n",
        "  return text"
      ]
    },
    {
      "cell_type": "code",
      "source": [
        "def decode(search):\n",
        "  for char, encoding in one_hot.items():\n",
        "    if encoding == search:\n",
        "      return char\n",
        "    "
      ],
      "metadata": {
        "id": "p4Xcc6EvkydN"
      },
      "execution_count": 126,
      "outputs": []
    },
    {
      "cell_type": "markdown",
      "metadata": {
        "id": "bXekvnQ7L-VI"
      },
      "source": [
        "### Task 10: Text Production\n",
        "\n",
        "Select several seeds (such as `\"thi\", \"ba\", \"wea\", \"tru\", \"sum\", \"q\"`) and let the network predict the following 80 most probable characters, or using probability sampling.\n",
        "Write the completed sentences to console."
      ]
    },
    {
      "cell_type": "code",
      "execution_count": 127,
      "metadata": {
        "id": "x8iqhdy1L-VI",
        "outputId": "6e5218fc-5e36-4f92-f976-4a9b7e08bf50",
        "colab": {
          "base_uri": "https://localhost:8080/"
        }
      },
      "outputs": [
        {
          "output_type": "stream",
          "name": "stdout",
          "text": [
            "\"thi\" -> \"thikyykksckcugmugdypmkugdypmkugdypmkugdypmkugdypmkugdypmkugdypmkugdypmkugdypmkugdyp\"\n",
            "\"thi\" -> \"thi'ccxdrmwc?bmijx?dogct;wvlne..tkgzxpt-;sjcbguyagkjggxpl.lbzqknljkcxajqfdmdw:g;lm-\"\n",
            "\"ba\" -> \"bakiugdpukxugdypmkugdypmkugdypmkugdypmkugdypmkugdypmkugdypmkugdypmkugdypmkugdypmku\"\n",
            "\"ba\" -> \"bagfg-oinkvtk?xzpbawrnks,r!bqs!b:xy'af:zz' dmkyl-k'n vzf!x.rqztuyz.i!d,zwc:w!vjyxj\"\n",
            "\"wea\" -> \"weakich ,ckcikyyh idxypmkugdypmkugdypmkugdypmkugdypmkugdypmkugdypmkugdypmkugdypmkug\"\n",
            "\"wea\" -> \"weab?luar.atbjxpa'dxitus,. an'ff?vzsetrg!-h?atycfamm kmo.k'q,rhbj- p?p??ptyz'jgrhot\"\n",
            "\"tru\" -> \"trugdypmkugdypmkugdypmkugdypmkugdypmkugdypmkugdypmkugdypmkugdypmkugdypmkugdypmkugdy\"\n",
            "\"tru\" -> \"trueilqzu,g,fhyj. mnx,:!mai:bwdhu?'pezd?r-yocgfp-qds?ecporvn'nkr-ix-vp:yrep;jxob!h;\"\n",
            "\"sum\" -> \"summvhxyyrmxvyrmvidyyrckidyvkxugdyhmxgpmksvcv vcvypmkvidyvkxugdyhmxgpmksvcv vcvypmk\"\n",
            "\"sum\" -> \"sumq-kuig'i emlowu;jt ;qn,dxp!b;,sph.rnc!o:;yhesgfc.ud?:prcaqyw.duui:feijfblsml;:eg\"\n",
            "\"q\" -> \"qkcugdpukxugdypmkugdypmkugdypmkugdypmkugdypmkugdypmkugdypmkugdypmkugdypmkugdypmku\"\n",
            "\"q\" -> \"qttcm,v.;-m :-kknbm'y-nel-woaoewkeyrxik,;i.'tjz?xe:ondk;gpx'fuapfoxx.mq.zjdje  na\"\n"
          ]
        }
      ],
      "source": [
        "seeds = [\"thi\", \"ba\", \"wea\", \"tru\", \"sum\", \"q\"]\n",
        "\n",
        "for seed in seeds:\n",
        "  best = sequence_completion(seed, 80, use_best=True)\n",
        "  # print seed and text\n",
        "  print (f\"\\\"{seed}\\\" -> \\\"{best}\\\"\")\n",
        "  sampled = sequence_completion(seed, 80, use_best=False)\n",
        "  # print seed and text\n",
        "  print (f\"\\\"{seed}\\\" -> \\\"{sampled}\\\"\")"
      ]
    },
    {
      "cell_type": "code",
      "source": [
        "#NOTE: RESULTS ARE HORRIBLE! WE DON'T KNOW WHAT WE DID WRONG. PLEASE CORRECT US WHERE WE WENT WRONG. TRAINING LOSS IS NOT DECREASING AT ALL!"
      ],
      "metadata": {
        "id": "Xe9-GnPkvy3R"
      },
      "execution_count": null,
      "outputs": []
    }
  ],
  "metadata": {
    "interpreter": {
      "hash": "a29cabff5744fce69e08a959ab87b9e77a9f67b498d08783caa8c3bb16f23a00"
    },
    "kernelspec": {
      "display_name": "Python 3.8.10 ('DL')",
      "language": "python",
      "name": "python3"
    },
    "language_info": {
      "codemirror_mode": {
        "name": "ipython",
        "version": 3
      },
      "file_extension": ".py",
      "mimetype": "text/x-python",
      "name": "python",
      "nbconvert_exporter": "python",
      "pygments_lexer": "ipython3",
      "version": "3.10.10"
    },
    "orig_nbformat": 4,
    "colab": {
      "provenance": [],
      "gpuType": "T4"
    },
    "accelerator": "GPU",
    "gpuClass": "standard"
  },
  "nbformat": 4,
  "nbformat_minor": 0
}