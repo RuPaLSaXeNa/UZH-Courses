{
  "cells": [
    {
      "cell_type": "markdown",
      "metadata": {
        "id": "lvlLab3Lb8GF"
      },
      "source": [
        "# Assignment 3: Universal Function Approximator\n",
        "\n",
        "\n",
        "The goal of this exercise is to train a two-layer fully-connected network to perform one-dimensional non-linear regression via gradient descent. To show the flexibility of the approach, three different functions will be approximated. First, the network and its gradient need to be implemented. Second, target data for three different functions will be generated. Finally, the training procedure will be applied to the data, and the resulting approximated function will be plotted together with the data samples.\n",
        "\n",
        "## Network Implementation\n",
        "\n",
        "A two-layer network is defined by parameters $\\Theta=(\\mathbf W^{(1)},\\vec w^{(2)})$ that are split into $\\mathbf W^{(1)}\\in\\mathbb R^{K\\times {(D+1)}}$ for the first layer and $\\vec w^{(2)}\\in\\mathbb R^{K+1}$ for the second layer. In our case, since we have only a single input, we have $D=1$.\n",
        "For a given input $\\vec x = (1, x)^T$, the network is implemented in three steps:\n",
        "\n",
        "1. Compute the first layer output, aka, the activation: $\\vec a_- = \\mathbf W^{(1)} \\vec x$\n",
        "2. Apply the activation function for each element of $\\vec a_- : \\vec h_- = g(\\vec a_-)$ and prepend the bias neuron $h_0=1$ to arrive at $\\vec h$.\n",
        "3. Compute the output of the network: $y = \\vec w^{(2)}\\ ^T\\vec h$.\n",
        "\n",
        "### Task 1  \n",
        "Implement a function that returns the network output for a given input $\\vec x$ and parameters $\\Theta=(\\mathbf W^{(1)}, \\vec w^{(2)})$. Remember that the input of the function $\\vec x = (1, x)^T$. Also remember to prepend $h_0=1$ in your implementation.\n",
        "\n",
        "We use hyperbolic tangent $(\\tanh)$ as the activation function:\n",
        "\n",
        "\\begin{equation*}\n",
        "    \\tanh(a) = \\frac{e^{a}-e^{-a}}{e^{a}+e^{-a}}\n",
        "\\end{equation*}\n",
        "\n",
        "Note:\n",
        "\n",
        "1. Use the `numpy` implemention of the hyperbolic tangent function.\n",
        "2. Use `numpy.concatenate` or `numpy.insert` to prepend $h_0$.\n",
        "3. Make use of `numpy.dot` to compute matrix-vector and vector-vector products."
      ]
    },
    {
      "cell_type": "code",
      "execution_count": null,
      "metadata": {
        "id": "qqH2gfbAb8GH"
      },
      "outputs": [],
      "source": [
        "import numpy\n",
        "import math\n",
        "\n",
        "def network(x, Theta):\n",
        "  W1, w2 = Theta\n",
        "  a_ = numpy.dot(W1, x)\n",
        "  h_ = numpy.tanh(a_)\n",
        "  h = numpy.insert(h_, 0, [1])\n",
        "  y = numpy.dot(w2, h)\n",
        "  return y, h"
      ]
    },
    {
      "cell_type": "markdown",
      "metadata": {
        "id": "yurHFZjFb8GI"
      },
      "source": [
        "Test 1: Sanity Check\n",
        "----------------------------\n",
        "\n",
        "We select a specific number of hidden neurons and create the weights accordingly, using all zeros in the first layer and all ones in the second. The test case below assures that the function from Task 1 actually returns $1$ for those weights.\n",
        "\n",
        "Note: your function should pass the test below."
      ]
    },
    {
      "cell_type": "code",
      "execution_count": null,
      "metadata": {
        "id": "YbbiNAd_b8GI",
        "colab": {
          "base_uri": "https://localhost:8080/"
        },
        "outputId": "b66b25a9-e04b-49b6-8886-3aa2a3973a5b"
      },
      "outputs": [
        {
          "output_type": "stream",
          "name": "stdout",
          "text": [
            "Test passed\n"
          ]
        }
      ],
      "source": [
        "K = 20\n",
        "D = 1\n",
        "W1 = numpy.zeros((K, D+1))\n",
        "w2 = numpy.ones(K+1)\n",
        "x = numpy.random.rand(D+1)\n",
        "\n",
        "y, _ = network(x, (W1, w2))\n",
        "assert abs(1 - y) < 1e-6\n",
        "print(\"Test passed\")"
      ]
    },
    {
      "cell_type": "markdown",
      "metadata": {
        "id": "jFPLGOydb8GJ"
      },
      "source": [
        "## Gradient Implementation\n",
        "\n",
        "In order to perform gradient descent, we need to define a loss function. As provided in the lecture, the $\\mathcal J^{L_2}$ loss function is defined over a dataset $X=\\{(\\vec x^{[n]}, t^{[n]})\\}$, that is defined as a list of tuples, as follows:\n",
        "\n",
        "$$\n",
        "   \\mathcal J^{L_2} = \\frac{1}{N}\\sum_{i=1}^N (y^{[n]}-t^{[n]})^2\n",
        "$$\n",
        "\n",
        "where $y^{[n]}$ is the output of the network from Task 1 when inputting $\\vec x^{[n]}$. Interestingly, however, we never explicitly need to compute the output of the loss function. It is only used to analytically compute the gradient as shown in the lecture.\n",
        "\n",
        "The gradient is composed of two items, one for each layer. Particularly, for a given dataset $X$, the gradient of loss $J^{L_2}$ is defined as:\n",
        "\n",
        "\\begin{align}\n",
        "  \\frac{\\partial \\mathcal J}{\\partial w_{kd}^{(1)}} &= \\frac{2}{N} \\sum\\limits_{n=1}^N (y^{[n]}-t^{[n]}) w_{k}^{(2)} (1-h_{k}^{[n]}\\cdot h_{k}^{[n]}) x_{d}^{[n]}\\\\\n",
        "  \\frac{\\partial \\mathcal J}{\\partial w_{k}^{(2)}} &= \\frac{2}{N} \\sum\\limits_{n=1}^N (y^{[n]}-t^{[n]}) w_{k}^{(2)} h_{k}^{[n]}\n",
        "\\end{align}\n",
        "\n",
        "### Task 2\n",
        "Implement a function that returns the gradient as defined in $(1)$ and $(2)$ for a given dataset $X$, and given weights $\\Theta=(\\mathbf W^{(1)},\\vec w^{(2)})$. Make sure that both parts of the gradient are computed. \n",
        "\n",
        "Hint:\n",
        "\n",
        "1. Make use of the the function implemented in Task 1 where appropriate\n",
        "\n",
        "Note:\n",
        "\n",
        "  1. This is a slow implementation. We will see how to speed this up in the next lecture.\n",
        "  2. You can make use of `numpy.zeros` to initialize the gradient.\n",
        "  3. The outper product can be computed via `numpy.outer`.\n",
        "  4. Remember that we used the $\\tanh$ activation function in our network."
      ]
    },
    {
      "cell_type": "code",
      "execution_count": null,
      "metadata": {
        "id": "aeJHBQVRb8GJ"
      },
      "outputs": [],
      "source": [
        "def gradient(X, Theta):\n",
        "  # split parameters for easier handling\n",
        "  W1, w2 = Theta\n",
        "  \n",
        "  N = len(X)\n",
        "  # define gradient with respect to both parameters\n",
        "  dW1 = numpy.zeros((W1.shape[0]+1, W1.shape[1]))\n",
        "  dW2 = numpy.zeros(w2.shape)\n",
        "\n",
        "  # iterate over dataset\n",
        "  for x, t in X:\n",
        "    y, h = network(x, Theta)\n",
        "    # compute the gradient\n",
        "    dW1 = dW1 + numpy.outer((y-t)*w2*(1-h*h),x)\n",
        "    dW2 = dW2 + (y-t)*w2*h\n",
        "    \n",
        "  # anything else?\n",
        "  dW1 = dW1 * 2/N\n",
        "  dW2 = dW2 * 2/N\n",
        "  dW1 = dW1[1:]\n",
        "  \n",
        "  return dW1, dW2"
      ]
    },
    {
      "cell_type": "markdown",
      "metadata": {
        "id": "p8GK-_Xub8GJ"
      },
      "source": [
        "## Gradient Descent\n",
        "\n",
        "The procedure of gradient descent is the repeated application of two steps.\n",
        " \n",
        "1. The gradient of loss $\\nabla_{\\Theta}\\mathcal J^{L_2}$ is computed based on the current value of the parameters $\\Theta=(\\mathbf W^{(1)},\\vec w^{(2)})$.\n",
        "2. The weights are updated by moving a small step $\\eta$ into the direction of the negative gradient:\n",
        "\n",
        "$$\n",
        "    \\Theta = \\Theta - \\eta \\nabla_{\\Theta}\\mathcal J\n",
        "$$\n",
        "\n",
        "As stopping criterion, we select the number of training epochs to be 10000.\n",
        "\n",
        "### Task 3\n",
        "Implement a function that performs gradient descent for a given dataset $X$, given initial parameters $\\Theta$ and a given learning rate $\\eta$ and returns the optimized parameters $\\Theta^*$."
      ]
    },
    {
      "cell_type": "code",
      "execution_count": null,
      "metadata": {
        "id": "i85swYuVb8GK"
      },
      "outputs": [],
      "source": [
        "def gradient_descent(X, Theta, eta):\n",
        "  epochs = 10000\n",
        "  w1, w2 = Theta\n",
        "  # perform iterative gradient descent\n",
        "  for epoch in range(epochs):\n",
        "    # compute the gradient\n",
        "    dw1, dw2 = gradient(X, Theta)\n",
        "\n",
        "    # update the parameters\n",
        "    w1 = w1 - eta*dw1\n",
        "    w2 = w2 - eta*dw2\n",
        "\n",
        "  # return optimized parameters\n",
        "  return (w1, w2)"
      ]
    },
    {
      "cell_type": "markdown",
      "metadata": {
        "id": "IDaausdsb8GK"
      },
      "source": [
        "## Generate Datasets\n",
        "\n",
        "In total, we will test our gradient descent function with three different datasets. Particularly, we approximate:\n",
        "\n",
        "1. $X_1: t = \\sin(2x)$ for $x\\in[-2,2]$\n",
        "2. $X_2: t = e^{-2x^2}$ for $x\\in[-2,2]$\n",
        "3. $X_3: t = -x^5 - 3x^4 + 11x^3 + 27x^2 - 10x - 64$ for $x\\in[-4.5,3.5]$\n",
        "\n",
        "### Task 4\n",
        "\n",
        "Generate dataset $X_1$, for $N=50$ samples randomly drawn from range $x\\in[-2,2]$. \n",
        "Generate data $X_2$ for $N=30$ samples randomly drawn from range $x\\in[-2,2]$. \n",
        "Generate dataset $X_3$ for $N=200$ samples randomly drawn from range $x\\in[-4.5,3.5]$. \n",
        "Implement all three datasets as lists of tuples: $\\{(\\vec x^{[n]}, t^{[n]})\\mid 1\\leq n\\leq N\\}$.\n",
        "\n",
        "Note:\n",
        "\n",
        "  1. You can use `numpy.random.uniform` to create uniformly distributed samples for $x$.\n",
        "  2. Make sure that $\\vec x = (1, x)^T$ for each sample.\n",
        "  3. You can make use of `numpy.sin`, `numpy.exp` and `numpy.pow` to compute target values."
      ]
    },
    {
      "cell_type": "code",
      "execution_count": null,
      "metadata": {
        "id": "5ikf1rIBb8GK"
      },
      "outputs": [],
      "source": [
        "X1 = [(numpy.array([1, x]), numpy.sin(2*x)) for x in numpy.random.uniform(low=-2,high=2,size=50)]\n",
        "X2 = [(numpy.array([1, x]), numpy.exp(-2*x**2)) for x in numpy.random.uniform(low=-2,high=2,size=30)]\n",
        "X3 = [(numpy.array([1, x]), (-numpy.power(x, 5)-3*numpy.power(x, 4)+11*numpy.power(x, 3)+27*numpy.power(x, 2)-10*x-64)) for x in numpy.random.uniform(low=-4.5,high=3.5,size=200)]\n"
      ]
    },
    {
      "cell_type": "markdown",
      "metadata": {
        "id": "eTCO1EjAb8GL"
      },
      "source": [
        "### Test 2: Sanity Check\n",
        "\n",
        "The test case below assures that the elements of each generated dataset are tuples with two elements, that the first element ($\\vec x$) is a vector with two numbers, and that the second element ($t$) is a float."
      ]
    },
    {
      "cell_type": "code",
      "execution_count": null,
      "metadata": {
        "id": "wGpn9gGgb8GL",
        "colab": {
          "base_uri": "https://localhost:8080/"
        },
        "outputId": "2a209e94-d9f4-438c-fb76-ff16ac1ef2bb"
      },
      "outputs": [
        {
          "output_type": "stream",
          "name": "stdout",
          "text": [
            "Test passed!\n"
          ]
        }
      ],
      "source": [
        "assert all(\n",
        "    isinstance(x, (tuple,list)) and \n",
        "    len(x) == 2 and \n",
        "    isinstance(x[0], (tuple,list,numpy.ndarray)) and \n",
        "    len(x[0] == 2) and \n",
        "    isinstance(x[1], float)\n",
        "    for X in (X1, X2, X3)\n",
        "    for x in X\n",
        ")\n",
        "\n",
        "print('Test passed!')"
      ]
    },
    {
      "cell_type": "markdown",
      "metadata": {
        "id": "kr_I3axKb8GL"
      },
      "source": [
        "## Function Approximation\n",
        "\n",
        "Finally, we want to make use of our gradient descent implementation to approximate our functions. In order to see our success, we want to plot the functions together with the data.\n",
        "\n",
        "### Task 5 (theoretical question)\n",
        "\n",
        "When looking at the example plots in the exercise slides (exemplary solutions for the plotting Task 8), how many hidden neurons $K$ do we need in order to approximate the functions? Is there any difference\n",
        "1 between the three target functions?\n",
        "\n",
        "**Answer: Number of hidden neurons based on exercise slides are 3,2, and 5**\n"
      ]
    },
    {
      "cell_type": "code",
      "execution_count": null,
      "metadata": {
        "id": "xR3lE4UFb8GL"
      },
      "outputs": [],
      "source": [
        "K1 = 6 \n",
        "K2 = 6 \n",
        "K3 = 20 "
      ]
    },
    {
      "cell_type": "markdown",
      "metadata": {
        "id": "_c7ll4Zbb8GL"
      },
      "source": [
        "### Task 6\n",
        "\n",
        "For each of the datasets, randomly initialize the parameters $\\Theta_1,\\Theta_2,\\Theta_3\\in[-1,1]$ according to the number of hidden neurons estimated in Task 5.\n",
        "\n",
        "Note:\n",
        "\n",
        "  1. You can use `numpy.random.uniform` to initialize the weights.\n",
        "  2. Make sure that the weight matrices are instantiated in the correct dimensions."
      ]
    },
    {
      "cell_type": "code",
      "execution_count": null,
      "metadata": {
        "id": "ENbzKr_Ab8GL"
      },
      "outputs": [],
      "source": [
        "Theta1 = (numpy.random.uniform(low=-1, high=1, size=(K1, D+1)), numpy.random.uniform(low=-1, high=1, size=K1+1))\n",
        "Theta2 = (numpy.random.uniform(low=-1, high=1, size=(K2, D+1)), numpy.random.uniform(low=-1, high=1, size=K2+1))\n",
        "Theta3 = (numpy.random.uniform(low=-1, high=1, size=(K3, D+1)), numpy.random.uniform(low=-1, high=1, size=K3+1))"
      ]
    },
    {
      "cell_type": "markdown",
      "metadata": {
        "id": "YzSv9sdwb8GL"
      },
      "source": [
        "### Task 7\n",
        "\n",
        "Call gradient descent function from Task 3 using the datasets $X_1, X_2, X_3$, the according created parameters $\\Theta_1,\\Theta_2,\\Theta_3$ and a learning rate of $\\eta=0.1$. Store the resulting optimized weights $\\Theta_1^*, \\Theta_2^*, \\Theta_3^*$ and the loss values.\n",
        "\n",
        "Optimize the learning rate $\\eta$ for each of the three functions. Do you see any differences? What are the best learning rates that you can find?\n",
        "**Answer: We see lot of difference in the plots in Task 9 while changing learning rates. We experimented with different learning rates and so far eta = 0.00005 is optimal.**\n",
        "\n",
        "WARNING: Depending on the implementation, this might run for several minutes!"
      ]
    },
    {
      "cell_type": "code",
      "execution_count": null,
      "metadata": {
        "id": "aiNH2qiFb8GM"
      },
      "outputs": [],
      "source": [
        "#eta = 0.1\n",
        "#Theta1_star = gradient_descent(X1, Theta1, eta)\n",
        "#Theta2_star = gradient_descent(X2, Theta2, eta)\n",
        "#Theta3_star = gradient_descent(X3, Theta3, eta)\n",
        "\n",
        "# optimised learning rate \n",
        "Theta1_star = gradient_descent(X1, Theta1, 0.000005)\n",
        "Theta2_star = gradient_descent(X2, Theta2, 0.00005)\n",
        "Theta3_star = gradient_descent(X3, Theta3, 0.00005)"
      ]
    },
    {
      "cell_type": "markdown",
      "metadata": {
        "id": "6Wom8miOb8GM"
      },
      "source": [
        "## Data and Function Plotting\n",
        "\n",
        "### Task 8\n",
        "\n",
        "Implement a plotting function that takes a given dataset $X$, given parameters $\\Theta$ and a defined range $R$. Each data sample $(x^{[n]},t^{[n]})$ of the dataset is plotted as an $''x''$. In order to plot the function that is approximated by the network, generate sufficient equally-spaced input values $x\\in R$, compute the network output $y$ for these inputs, and plot them with a line.\n",
        "\n",
        "Note:\n",
        "\n",
        "  1. The dataset $X$ is defined as above, a list of tuples $(\\vec x, t)$.\n",
        "  2. Each input in the dataset is defined as $\\vec x = (1,x)^T$.\n",
        "  3. Equidistant points can be obtained via `numpy.arange`."
      ]
    },
    {
      "cell_type": "code",
      "execution_count": null,
      "metadata": {
        "id": "exS_ngGdb8GM"
      },
      "outputs": [],
      "source": [
        "from matplotlib import pyplot\n",
        "\n",
        "def plot(X, Theta, R):\n",
        "  # first, plot data samples\n",
        "  pyplot.plot([x[0][1] for x in X], [x[1] for x in X], \"rx\", label=\"Data\")\n",
        "\n",
        "  # define equidistant points from R[0] to R[1] to evaluate the network\n",
        "  x = numpy.arange(start=R[0], stop=R[1], step=0.1)\n",
        "  # compute the network outputs for these values\n",
        "  y = [network(numpy.array([1, xx]), Theta)[0] for xx in x]\n",
        "  # plot network approximation\n",
        "  pyplot.plot(x,y,\"k-\", label=\"network\")\n",
        "  pyplot.legend()"
      ]
    },
    {
      "cell_type": "markdown",
      "metadata": {
        "id": "3vx0FsRKb8GM"
      },
      "source": [
        "### Task 9\n",
        "\n",
        "For each of the datasets and their according optimized parameters, call the plotting function from Task 8. Use range $R=[-3,3]$ for dataset $X_1$ and $X_2$, and range $R=[-5.5,4.5]$ for dataset $X_3$. Note that the first element of range $R$ should be the lowest $x$-location, and the second element of $R$ the highest value for $x$. Did the networks approximate the functions? What can we do if not?\n",
        "\n",
        "Answer: The network did not approximate the function. Following are the things which can be done to approximate better:\n",
        "1. Increase the number of neurons used per layer, so that network will be able to learn more complex relationships between the data.\n",
        "2. Optimize learning rate, so the convergence of training process can be improved\n",
        "3. Instead of using epoch to optimize weights, terminate when loss is minimum"
      ]
    },
    {
      "cell_type": "code",
      "execution_count": null,
      "metadata": {
        "id": "cTcomTRjb8GM",
        "colab": {
          "base_uri": "https://localhost:8080/",
          "height": 211
        },
        "outputId": "046a23c7-d4b5-433f-8990-2e77c1ee852d"
      },
      "outputs": [
        {
          "output_type": "display_data",
          "data": {
            "text/plain": [
              "<Figure size 720x216 with 3 Axes>"
            ],
            "image/png": "[encoded data removed]"
          },
          "metadata": {
            "needs_background": "light"
          }
        }
      ],
      "source": [
        "figure = pyplot.figure(figsize=(10,3))\n",
        "\n",
        "# plot first function\n",
        "pyplot.subplot(131)\n",
        "plot(X1, Theta1_star, [-3, 3])\n",
        "\n",
        "# plot second function\n",
        "pyplot.subplot(132)\n",
        "plot(X2, Theta2_star, [-3, 3])\n",
        "\n",
        "# plot third function\n",
        "pyplot.subplot(133)\n",
        "plot(X3, Theta3_star, [-5.5, 4.5])"
      ]
    }
  ],
  "metadata": {
    "interpreter": {
      "hash": "2dd53f8ad749bca69f7250ce75eb4f0def59db5cf79075a9716322ffc58e8a2e"
    },
    "kernelspec": {
      "display_name": "Python 3 (ipykernel)",
      "language": "python",
      "name": "python3"
    },
    "language_info": {
      "name": "python",
      "version": "3.8.13"
    },
    "orig_nbformat": 4,
    "colab": {
      "provenance": []
    }
  },
  "nbformat": 4,
  "nbformat_minor": 0
}