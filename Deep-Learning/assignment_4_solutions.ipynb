{
  "cells": [
    {
      "cell_type": "markdown",
      "metadata": {
        "id": "9DKZj8jK_Dry"
      },
      "source": [
        "# Assignment 4: Multi-Output Networks and Batch Processing\n",
        "\n",
        "\n",
        "The goal of this exercise is to get to know some regularization techniques when implementing deep learning methods.\n",
        "For this purpose, we select a dataset that contains data in different formats, some binary ($x_d \\in \\{-1,1\\}$) and some numerical ($x_d\\in \\mathbb N$); and some are categorical, which we ignore for now.\n",
        "As target values, this dataset contains three numerical outputs, so, $\\vec t \\in \\mathbb R^3$ for each sample.\n",
        "These target values should be approximated with a two-layer multi-output network that we will train with the $\\mathcal J^{L_2}$ loss.\n",
        "\n",
        "\n",
        "\n",
        "Remember to make use of `numpy` in the matrix calculation, e.g. `numpy.dot`, `numpy.exp`, `numpy.mean` \n"
      ]
    },
    {
      "cell_type": "markdown",
      "metadata": {
        "id": "5lrQLreklXtS"
      },
      "source": [
        "## Dataset\n",
        "\n",
        "The dataset of our choice is the Student Performance estimation dataset that was collected in Portugal in two different schools and with two different subjects, i.e., math and Portuguese (the mother tongue).\n",
        "The dataset contains many different inputs such as a binary representation of the school, gender, family sizes, and alike, as well as numerical representations of age, travel time, and alcohol consumption.\n",
        "The dataset also includes some categorical data, which we skip in this assignment.\n",
        "See https://archive.ics.uci.edu/ml/datasets/Student+Performance for more information on the dataset.\n",
        "As a start, we will rely on the Portuguese performance (`\"por\"`), but you can also try to use the Math samples (`\"mat\"`)."
      ]
    },
    {
      "cell_type": "markdown",
      "metadata": {
        "id": "HSol7VoalR-7"
      },
      "source": [
        "### Task 1: Dataset Loading\n",
        "\n",
        "\n",
        "Load the dataset from files and provide the input matrix $\\mathbf X \\in \\mathbb R^{(D+1)\\times N}$ and the output matrix $\\mathbf T \\in \\mathbb R^{O\\times N}$.\n",
        "\n",
        "Due to the difficulty of the task, most of the implementation is provided.\n",
        "The implementation is very literal and, therefore, hopefully readable, while maybe not the most efficient.\n",
        "\n",
        "We skip categorical inputs (indexes 8-11) for now.\n",
        "All other entries are converted either into binary $(-1,1)$ or into an integer range $(0,1,\\ldots)$.\n",
        "The three outputs range between 0 and 20 each. The bias value for $x_0=1$ is also already included.\n",
        "You just need to make sure that the data $(X,T)$ is returned in the desired format."
      ]
    },
    {
      "cell_type": "code",
      "execution_count": null,
      "metadata": {
        "id": "wE3DlW-e_Dr1"
      },
      "outputs": [],
      "source": [
        "import math\n",
        "import numpy\n",
        "import os\n",
        "\n",
        "# Dataset origin: https://archive.ics.uci.edu/ml/datasets/Student+Performance\n",
        "\n",
        "def dataset(course=\"por\"):\n",
        "  # load dataset and provide input and target data\n",
        "  # possible data files are \"mat\" and \"por\"\n",
        "\n",
        "  # download data file from URL\n",
        "  dataset_zip_file = \"student.zip\"\n",
        "  if not os.path.exists(dataset_zip_file):\n",
        "    import urllib.request\n",
        "    urllib.request.urlretrieve(\"https://archive.ics.uci.edu/ml/machine-learning-databases/00320/student.zip\", dataset_zip_file)\n",
        "    print (\"Downloaded datafile\", dataset_zip_file)\n",
        "\n",
        "  import zipfile\n",
        "  import csv\n",
        "  import io\n",
        "\n",
        "  # collect inputs\n",
        "  inputs = []\n",
        "  targets = []\n",
        "  # some default values: yes=1, no=-1\n",
        "  yn = {\"yes\":1.,\"no\":-1.}\n",
        "  # read through dataset (without actually unzippiung to a file):\n",
        "  # ... open zip file\n",
        "  zip = zipfile.ZipFile(dataset_zip_file)\n",
        "  # ... open data file inside of zip file and convert bytes to text\n",
        "  datafile = io.TextIOWrapper(zip.open(os.path.join(F\"student-{course}.csv\"), 'r'))\n",
        "  # ... read through the lines via CSV reader, using the correct delimited\n",
        "  reader = csv.reader(datafile, delimiter=\";\")\n",
        "  # ... skip header line\n",
        "  next(reader)\n",
        "  for splits in reader:\n",
        "    # read input values\n",
        "    inputs.append([\n",
        "      1.,                             #### BIAS ####\n",
        "      {\"GP\":1.,\"MS\":-1.}[splits[0]],  # school\n",
        "      {\"M\":1.,\"F\":-1.}[splits[1]],    # gender\n",
        "      float(splits[2]),               # age\n",
        "      {\"U\":1.,\"R\":-1.}[splits[3]],    # address\n",
        "      {\"LE3\":1.,\"GT3\":-1.}[splits[4]],# family size\n",
        "      {\"T\":1.,\"A\":-1.}[splits[5]],    # parents living together\n",
        "      float(splits[6]),               # mother education\n",
        "      float(splits[7]),               # father education\n",
        "      # skip categorical values\n",
        "      float(splits[12]),              # travel time\n",
        "      float(splits[13]),              # study time\n",
        "      float(splits[14]),              # failures\n",
        "      yn[splits[15]],                 # extra support\n",
        "      yn[splits[16]],                 # family support\n",
        "      yn[splits[17]],                 # paid support\n",
        "      yn[splits[18]],                 # activities\n",
        "      yn[splits[19]],                 # nursery school\n",
        "      yn[splits[20]],                 # higher education\n",
        "      yn[splits[21]],                 # internet\n",
        "      yn[splits[22]],                 # romantic\n",
        "      float(splits[23]),              # family relation\n",
        "      float(splits[24]),              # free time\n",
        "      float(splits[25]),              # going out\n",
        "      float(splits[26]),              # workday alcohol\n",
        "      float(splits[27]),              # weekend alcohol\n",
        "      float(splits[28]),              # health\n",
        "      float(splits[29]),              # absences\n",
        "    ])\n",
        "\n",
        "    # read targets values\n",
        "    targets.append([\n",
        "      float(splits[30]),              # grade for primary school\n",
        "      float(splits[31]),              # grade for secondary school\n",
        "      float(splits[32]),              # grade for tertiary school\n",
        "    ])\n",
        "\n",
        "  print(F\"Loaded dataset with {len(targets)} samples\")\n",
        "  return numpy.transpose(numpy.array(inputs)), numpy.transpose(numpy.array(targets))"
      ]
    },
    {
      "cell_type": "markdown",
      "metadata": {
        "id": "FWNwt2Rb_Dr3"
      },
      "source": [
        "### Test 1: Assert Valid Outputs\n",
        "\n",
        "This test will check the dimension of the loaded dataset, i.e. $\\mathbf X\\in \\mathbb R^{(D+1)\\times N}$ and $\\mathbf T \\in \\mathbb R^{O\\times N}$, and also assure that all target data is in the range $t\\in[0,20]$.\n",
        "\n",
        "Please make sure that your implementation can pass these tests before moving to the next task"
      ]
    },
    {
      "cell_type": "code",
      "execution_count": null,
      "metadata": {
        "colab": {
          "base_uri": "https://localhost:8080/"
        },
        "id": "jaCpzc-l_Dr3",
        "outputId": "348f78d9-93b2-464d-9cb3-559219ab996e"
      },
      "outputs": [
        {
          "output_type": "stream",
          "name": "stdout",
          "text": [
            "Loaded dataset with 649 samples\n"
          ]
        }
      ],
      "source": [
        "X, T = dataset(\"por\")\n",
        "\n",
        "assert numpy.all(T >= 0) and numpy.all(T <= 20)\n",
        "\n",
        "assert X.shape[0] == 27\n",
        "assert T.shape[0] == 3\n",
        "assert T.shape[1] == X.shape[1]"
      ]
    },
    {
      "cell_type": "markdown",
      "metadata": {
        "id": "dfk_P5eG_Dr3"
      },
      "source": [
        "### Task 2: Input Data Standardization\n",
        "\n",
        "Since the data is in different input regimes, we want to standardize the data.\n",
        "For this purpose, we need to compute the mean and the standard deviation of the data for each input dimension.\n",
        "Then, we implement a function to perform the standardization of the data using the previously computed mean and standard deviation. Make sure that you handle the bias neuron $x_0$ correctly.\n",
        "\n",
        "Please note that `numpy` has all the functionality that you need."
      ]
    },
    {
      "cell_type": "code",
      "execution_count": null,
      "metadata": {
        "id": "0bUpUAHR_Dr3"
      },
      "outputs": [],
      "source": [
        "# compute mean and standard deviation over dataset\n",
        "mean = numpy.mean(X, axis=1)\n",
        "std = numpy.std(X, axis=1)\n",
        "# assure to handle x_0 correctly\n",
        "mean[0] = 0\n",
        "std[0] = 1\n",
        "\n",
        "def standardize(x, mean, std):\n",
        "  # standardize the given data with the given mean and standard deviation\n",
        "  return numpy.transpose((numpy.transpose(x) - mean) / std)\n",
        "\n",
        "# standardize our dataset\n",
        "X = standardize(X, mean, std)"
      ]
    },
    {
      "cell_type": "markdown",
      "metadata": {
        "id": "6MZ_MPc-_Dr4"
      },
      "source": [
        "### Task 3: Batch Processing\n",
        "\n",
        "In order to run stochastic gradient descent, we need to split our dataset into batches of a certain batch size $B$. Implement a function that turns the dataset $(X,T)$ into batches of a certain batch size $B$.\n",
        "Implement this function as a generator function, i.e., use ``yield`` instead of ``return``.\n",
        "Circulate the dataset afresh when all data is consumed, and shuffle the data in each epoch.\n",
        "Make sure that you yield both the input batch and the target batch."
      ]
    },
    {
      "cell_type": "code",
      "execution_count": null,
      "metadata": {
        "id": "GoDHo80J_Dr4"
      },
      "outputs": [],
      "source": [
        "def batch(X, T, batch_size=16):\n",
        "    indices = numpy.arange(X.shape[1])\n",
        "\n",
        "    while True:\n",
        "        # shuffle dataset in each epoch\n",
        "        numpy.random.shuffle(indices)\n",
        "        X_shuf = X[:, indices]\n",
        "        T_shuf = T[:, indices]\n",
        "\n",
        "        for i in range(0, X.shape[1], batch_size):\n",
        "            stop_idx = i + batch_size\n",
        "            if stop_idx > X.shape[1]:\n",
        "                continue\n",
        "\n",
        "            X_b = X_shuf[:, i:stop_idx]\n",
        "            T_b = T_shuf[:, i:stop_idx]\n",
        "            e = (i % (3 * batch_size) == 0)\n",
        "            # yield the batch\n",
        "            yield X_b, T_b, e"
      ]
    },
    {
      "cell_type": "markdown",
      "metadata": {
        "id": "NgBsBOsa_Dr4"
      },
      "source": [
        "### Test 2: Test your Batches\n",
        "\n",
        "This test is to assure that your batch generation function works as expected. \n",
        "We define some test data for this purpose.\n",
        "The code below checks whether your batch function returns batches with correct content, i.e., $(\\vec x, \\vec t)$-alignment. \n",
        "It also checks that the batches are in the correct dimensions, i.e., that $\\mathbf X \\in \\mathbb R^{(D+1)\\times B}$ and $\\mathbf T \\in \\mathbb R^{O\\times B}$.\n",
        "\n",
        "Make sure you can pass this test before moving forward."
      ]
    },
    {
      "cell_type": "code",
      "execution_count": null,
      "metadata": {
        "id": "fFndxbf1_CmR"
      },
      "outputs": [],
      "source": [
        "XX = numpy.array([[i] * 5 for i in range(50)]).T\n",
        "TT = numpy.array([[i] for i in range(10,60)]).T\n",
        "\n",
        "for counter, (x,t,e) in enumerate(batch(XX, TT, 16)):\n",
        "  assert x.shape[0] == 5\n",
        "  assert x.shape[1] == 16\n",
        "  assert t.shape[0] == 1\n",
        "  assert t.shape[1] == 16\n",
        "  assert numpy.all(x == t-10)\n",
        "  assert e == (counter % 3 == 0)\n",
        "  if counter == 20: break"
      ]
    },
    {
      "cell_type": "markdown",
      "metadata": {
        "id": "0B8o_mE1l6mp"
      },
      "source": [
        "## Gradient Descent\n",
        "\n",
        "To train a two-layer multi-output regression network, we need to implement some functions.\n",
        "The network output is computed in three steps:\n",
        "\n",
        "  * Compute network activation for a batch of inputs $\\mathbf X$: $\\mathbf A = \\mathbf W^{(1)}\\mathbf X$\n",
        "  * Call the activation function element-wise: $\\mathbf H = g(\\mathbf A)$. Here, we rely on the logistic activation function $\\sigma$. Assure that the hidden neuron bias $\\mathbf H_{0,:}$ is set appropriately.\n",
        "  * Compute the output $\\mathbf Y$ of the batch: $\\mathbf Y = \\mathbf W^{(2)}\\mathbf H$."
      ]
    },
    {
      "cell_type": "markdown",
      "metadata": {
        "id": "0pGCwC0L_Dr4"
      },
      "source": [
        "### Task 4: Multi-Output Network\n",
        "\n",
        "Implement a multi-target network that computes the output matrix $\\mathbf Y$ for a given input dataset/batch $\\mathbf X$ and given parameters $\\Theta=(\\mathbf W^{(1)}, \\mathbf W^{(2)})$ using `numpy` operations. \n",
        "The function should return both the output $\\mathbf Y$ and the output of the hidden units $\\mathbf H$ since we will need these in gradient descent. Select the logistic function $\\sigma$ as the activation function."
      ]
    },
    {
      "cell_type": "code",
      "execution_count": null,
      "metadata": {
        "id": "j1gErN4z_Dr4"
      },
      "outputs": [],
      "source": [
        "def network(X, Theta):\n",
        "  W1, W2 = Theta\n",
        "\n",
        "  # compute activation\n",
        "  A = numpy.dot(W1,X)\n",
        "\n",
        "  # compute hidden unit output\n",
        "  H = 1/ (1 + numpy.exp(-A))\n",
        "  H[0] = 1\n",
        "\n",
        "  # compute network output\n",
        "  Y = numpy.dot(W2, H)\n",
        " \n",
        "  return Y, H"
      ]
    },
    {
      "cell_type": "markdown",
      "metadata": {
        "id": "Zt0CMab4_Dr5"
      },
      "source": [
        "### Task 5: Loss Implementation\n",
        "\n",
        "Implement a loss function that returns the squared loss $\\mathcal J^{L_2} = \\frac1B \\|\\mathbf Y - \\mathbf T\\|_F^2$ for given network outputs $\\mathbf Y$ and target values $\\mathbf T$.\n",
        "Use `numpy` or `scipy` functionality for this task."
      ]
    },
    {
      "cell_type": "code",
      "execution_count": null,
      "metadata": {
        "id": "RSwKiqIc_Dr5"
      },
      "outputs": [],
      "source": [
        "\n",
        "def loss(Y, T):\n",
        "  from numpy import linalg as LA\n",
        "  return (LA.norm(Y-T, 'fro')**2)/Y.shape[1]"
      ]
    },
    {
      "cell_type": "markdown",
      "metadata": {
        "id": "fD2srCKN_Dr5"
      },
      "source": [
        "### Task 6: Gradient Implementation\n",
        "\n",
        "Implement a function that computes and returns the gradient for a given batch $(\\mathbf X, \\mathbf T)$, the given network outputs $\\mathbf Y$ and $\\mathbf H$ as well as current parameters $\\Theta=(\\mathbf W^{(1)}, \\mathbf W^{(2)})$.\n",
        "Make sure to compute the gradient with respect to both weight matrices. Remember that we have used $\\sigma$ as the activation function.\n",
        "Implement the function using the fast version provided in the lecture and make use of `numpy` operations."
      ]
    },
    {
      "cell_type": "code",
      "execution_count": null,
      "metadata": {
        "id": "Qe8QYVnP_Dr5"
      },
      "outputs": [],
      "source": [
        "def gradient(X, T, Y, H, Theta):\n",
        "  W1, W2 = Theta\n",
        " # first layer gradient\n",
        "  g1 = (2/numpy.shape(Y)[1])*numpy.dot((numpy.dot(numpy.transpose(W2),(Y-T))*(H * (1 - H))),numpy.transpose(X))\n",
        "  # second layer gradient\n",
        "  g2 = (2/numpy.shape(Y)[1])*(numpy.dot((Y-T),numpy.transpose(H)))\n",
        "  \n",
        "  return g1, g2"
      ]
    },
    {
      "cell_type": "markdown",
      "metadata": {
        "id": "CpeCOHbE_Dr5"
      },
      "source": [
        "### Task 7: Iterative Gradient Descent\n",
        "\n",
        "\n",
        "Implement gradient descent for a given number of 10'000 epochs (**not batches!**) using given initial parameters $\\Theta$ and a given batch size $B$, as well as a learning rate of $\\eta=0.001$.\n",
        "\n",
        "Make use of the standardized dataset from Task 2, split into batches with the function from Task 3, the network from Task 4, the loss from Task 5, and the gradient from Task 6.\n",
        "\n",
        "Make sure that the network output $\\mathbf Y$ and the hidden unit output $\\mathbf H$ are computed only once for each batch. After applying gradient descent, add an option to use momentum learning with the given parameter `mu`.\n",
        "At the end of each epoch, compute and store the loss values for each batch in a list, and this list will be returned at the end.\n",
        "\n",
        "How many iterations do we need when $B < N$? How can you know whether your current batch is the last one of the current epoch?\n",
        "\n",
        "Answer:\n",
        "\n",
        "Number of iteration we need = N/B\n",
        "\n",
        "\n",
        "We can know whether current batch is the last one by keeping track of number of data points appeared in iterations. "
      ]
    },
    {
      "cell_type": "code",
      "execution_count": null,
      "metadata": {
        "id": "QnuFqkg-82l2"
      },
      "outputs": [],
      "source": [
        "import random\n",
        "def gradient_descent(X, T, Theta, B, eta=0.001, mu=None):\n",
        "  loss_values = []\n",
        "\n",
        "  max_epochs = 10000\n",
        "  max_batches = len(X)//B\n",
        "\n",
        "  batches = batch(X,T,batch_size=B)\n",
        "\n",
        "  w1, w2 = Theta\n",
        "\n",
        "  data_n = 0\n",
        "  epoch = 0\n",
        "  epoch_loss = []\n",
        "  W1_prev = numpy.zeros_like(W1)\n",
        "  W2_prev = numpy.zeros_like(W2)\n",
        "  # iterate over batches\n",
        "  for x,t,e in batches:\n",
        "    # compute network output\n",
        "    Y, H = network(x, Theta)\n",
        "    \n",
        "    # compute and append loss\n",
        "    loss_ = loss(Y,t)\n",
        "\n",
        "    epoch_loss.append(loss_)\n",
        "\n",
        "    # compute gradient\n",
        "    g1, g2 = gradient(x, t, Y, H, Theta)\n",
        "\n",
        "    # apply momentum learning if asked\n",
        "    if mu is not None:\n",
        "      W1_prev = mu * W1_prev - eta * g1\n",
        "      W2_prev = mu * W2_prev - eta * g2\n",
        "      w1 += W1_prev\n",
        "      w2 += W2_prev\n",
        "    else:\n",
        "      # and apply gradient descent\n",
        "      w1 = w1 - eta*g1\n",
        "      w2 = w2 - eta*g2\n",
        "\n",
        "    Theta = [w1, w2]\n",
        "    \n",
        "    data_n += B\n",
        "    if data_n >= X.shape[1]:\n",
        "      epoch += 1\n",
        "      data_n = 0\n",
        "      loss_values.append(random.choice(epoch_loss))\n",
        "      epoch_loss = []\n",
        "\n",
        "      if epoch >= max_epochs:\n",
        "        break\n",
        "\n",
        "  # return the obtained loss values at the end\n",
        "  return loss_values"
      ]
    },
    {
      "cell_type": "markdown",
      "metadata": {
        "id": "NIvoljpW_Dr5"
      },
      "source": [
        "### Task 8: Run Gradient Descent\n",
        "\n",
        "Select an appropriate number of hidden neurons $K$.\n",
        "Instantiate the weight matrices $\\Theta=(\\mathbf W^{(1)}, \\mathbf W^{(2)})$ using the Xavier method as introduced in the lecture.\n",
        "\n",
        "Run the gradient descent three times, first as normal gradient descent, second as stochastic gradient descent with batch size $B=16$, and third with the same setup as the second but with momentum learning involved, select $\\mu =0.9$.\n",
        "\n",
        "How can you achieve this without requiring separate implementations of the ``gradient_descent`` function from Task 7?"
      ]
    },
    {
      "cell_type": "code",
      "execution_count": null,
      "metadata": {
        "id": "r4BnX1m8_Dr6"
      },
      "outputs": [],
      "source": [
        "K = 25\n",
        "D = X.shape[0]\n",
        "O = 3\n",
        "W1 = numpy.random.uniform(-1/numpy.sqrt(D-1), 1/numpy.sqrt(D-1), (K,D))\n",
        "W2 = numpy.random.uniform(-1/numpy.sqrt(K), 1/numpy.sqrt(K), (O,K))\n",
        "Theta = [W1, W2]\n",
        "\n",
        "import copy\n",
        "\n",
        "# run gradient descent with full dataset\n",
        "Theta1 = copy.deepcopy(Theta)\n",
        "GD = gradient_descent(X, T, Theta1, B=X.shape[1], eta=0.001, mu=None)\n",
        "\n",
        "# run stochastic gradient descent with batches of size 16\n",
        "Theta2 = copy.deepcopy(Theta)\n",
        "SGD = gradient_descent(X, T, Theta2, B=16, eta=0.001, mu=None)\n",
        "\n",
        "# run stochastic gradient descent with batches of size 16 and momentum mu=0.9\n",
        "Theta3 = copy.deepcopy(Theta)\n",
        "SGD_Mo = gradient_descent(X, T, Theta3, B=16, eta=0.001, mu=0.9)"
      ]
    },
    {
      "cell_type": "markdown",
      "metadata": {
        "id": "Mi5Wt88CnsNB"
      },
      "source": [
        "## Evaluation\n",
        "\n",
        "Finally, we want to evaluate how the learning process went and what the network has actually learned.\n",
        "For the former, we will plot the loss values obtained during training.\n",
        "For the latter, we define one specific sample of our own, and we evaluate the impact of several factors on the performance."
      ]
    },
    {
      "cell_type": "markdown",
      "metadata": {
        "id": "t1CGUw7k_Dr6"
      },
      "source": [
        "### Task 9: Plotting Loss Progression\n",
        "\n",
        "To show the learning process of the networks, plot the loss values of the three gradient descent steps from Task 8 together into one plot.\n",
        "Do we need to take care of something when plotting both together?\n",
        "\n",
        "Use logarithmic axes wherever you see fit.\n",
        "An exemplary loss progression plot can be found in the slides.\n",
        "\n"
      ]
    },
    {
      "cell_type": "code",
      "execution_count": null,
      "metadata": {
        "id": "wMFMvuRg_Dr6",
        "colab": {
          "base_uri": "https://localhost:8080/",
          "height": 287
        },
        "outputId": "70f5d8b9-88d0-4469-e2e0-e360897e735c"
      },
      "outputs": [
        {
          "output_type": "execute_result",
          "data": {
            "text/plain": [
              "<matplotlib.legend.Legend at 0x7f6011958af0>"
            ]
          },
          "metadata": {},
          "execution_count": 59
        },
        {
          "output_type": "display_data",
          "data": {
            "text/plain": [
              "<Figure size 432x288 with 1 Axes>"
            ],
            "image/png": "[encoded data removed]"
          },
          "metadata": {
            "needs_background": "light"
          }
        }
      ],
      "source": [
        "from matplotlib import pyplot\n",
        "\n",
        "pyplot.plot(SGD, \"b-\", label=\"Stochastic Gradient Descent\")\n",
        "pyplot.plot(SGD_Mo,  \"r-\", label=\"Stochastic Gradient Descent with Momentum\")\n",
        "pyplot.plot(GD, \"g-\", label=\"Gradient Descent\")\n",
        "pyplot.loglog()\n",
        "pyplot.legend()"
      ]
    },
    {
      "cell_type": "markdown",
      "metadata": {
        "id": "sDJp99mK_Dr6"
      },
      "source": [
        "### Task 10: Example Evaluation (optional)\n",
        "\n",
        "We want to see what the network has learned.\n",
        "Therefore, we evaluate some data points that would represent a typical Swiss student (except for the school entry, where we select one of them randomly).\n",
        "You can select a specific example, but you can also imagine a student.\n",
        "Please refer to https://archive.ics.uci.edu/ml/datasets/Student+Performance on possible values and the implementation in Tasks 1 and 2 on how to generate an input sample $\\vec x$ for our network. Also, remember that input data need to be standardized before feeding it to the network. \n",
        "\n",
        "Compute the scores that your student would likely get by asking the network, using the parameters $\\Theta$ optimized with stochastic gradient descent.\n",
        "\n"
      ]
    },
    {
      "cell_type": "code",
      "execution_count": null,
      "metadata": {
        "id": "9RPCifeO_Dr6",
        "colab": {
          "base_uri": "https://localhost:8080/"
        },
        "outputId": "dfe48b8e-0a3b-4257-9eca-479df2153b56"
      },
      "outputs": [
        {
          "output_type": "stream",
          "name": "stdout",
          "text": [
            "Prediction :\t [[-0.00068496]\n",
            " [ 0.40049949]\n",
            " [ 0.54368439]]\n"
          ]
        }
      ],
      "source": [
        "# select a specific example\n",
        "example = numpy.array([[\n",
        "  1.,    # BIAS\n",
        "  1,   # school (select -1 or 1)\n",
        "  1,   # gender\n",
        "  15,   # age\n",
        "  1,   # adress\n",
        "  1,   # family size\n",
        "  1,   # parents living together\n",
        "  3,   # mother education\n",
        "  3,   # father education\n",
        "  3,   # travel time\n",
        "  2,   # study time\n",
        "  0,   # class failure before\n",
        "\n",
        "  1,   # support from school\n",
        "  1,   # support from the family\n",
        "  -1,   # paid extra support \n",
        "  1,   # out-of-school activities\n",
        "  -1,   # nursery school\n",
        "  1,   # want to do higher ed\n",
        "  1,   # internet access\n",
        "  1,   # romantic relation\n",
        "\n",
        "  1,   # relation to family\n",
        "  1,   # amount of free time\n",
        "  1,   # go out with peers\n",
        "  1,   # alcoholic drinks during the week\n",
        "  1,   # alcoholic drinks in the weekend\n",
        "  1,   # health status\n",
        "  0    # days of absence\n",
        "]]).T\n",
        "\n",
        "# compute network output\n",
        "prediction, h = network(example, Theta2)\n",
        "print(\"Prediction :\\t\", prediction)"
      ]
    },
    {
      "cell_type": "markdown",
      "metadata": {
        "id": "9lB1b-8V_Dr6"
      },
      "source": [
        "### Task 11: Influence of Data Dimensions (optional)\n",
        "\n",
        "\n",
        "For some dimensions in the input feature $\\vec x$, we want to test how different input values for this dimension would influence the outcome.\n",
        "Particularly, we test:\n",
        "\n",
        "  * Gender at index $d=2$: change between male ($1$) and female ($-1$)\n",
        "  * Weekly study time at index $d=10$: vary in the range $[1,4]$ \n",
        "  * Past Failures at index $d=11$: vary in range $[0,3]$ \n",
        "  * Additional classes at index $d=14$: change between yes ($1$) and no ($-1$)\n",
        "  * Romantic relations at index $d=19$: change between yes ($1$) and no ($-1$)\n",
        "  * Weekday alcohol consumption at index $d=23$: varies in the range $[1,6]$.\n",
        "\n",
        "Note that the indexes include the fact that we are omitting some input dimensions, so they might differ from what is listed on the webpage.\n",
        "\n",
        "Did you expect this output?\n",
        "\n"
      ]
    },
    {
      "cell_type": "code",
      "execution_count": null,
      "metadata": {
        "id": "buTufJpd_Dr6",
        "colab": {
          "base_uri": "https://localhost:8080/"
        },
        "outputId": "0e02ca28-44cd-414d-db74-45c3fd89b8c2"
      },
      "outputs": [
        {
          "output_type": "stream",
          "name": "stdout",
          "text": [
            "Index 2, Value: -1, Network Output: [[0.04104102]\n",
            " [0.43521636]\n",
            " [0.54377358]]\n",
            "Index 2, Value: 1, Network Output: [[-0.00068496]\n",
            " [ 0.40049949]\n",
            " [ 0.54368439]]\n",
            "Index 10, Value: 1, Network Output: [[-0.01726623]\n",
            " [ 0.40089806]\n",
            " [ 0.56157724]]\n",
            "Index 10, Value: 2, Network Output: [[-0.00068496]\n",
            " [ 0.40049949]\n",
            " [ 0.54368439]]\n",
            "Index 10, Value: 3, Network Output: [[0.01476682]\n",
            " [0.39999803]\n",
            " [0.52638558]]\n",
            "Index 10, Value: 4, Network Output: [[0.02880492]\n",
            " [0.39950484]\n",
            " [0.50982359]]\n",
            "Index 11, Value: 0, Network Output: [[-0.00068496]\n",
            " [ 0.40049949]\n",
            " [ 0.54368439]]\n",
            "Index 11, Value: 1, Network Output: [[-0.00678295]\n",
            " [ 0.42802507]\n",
            " [ 0.55047488]]\n",
            "Index 11, Value: 2, Network Output: [[-0.01255386]\n",
            " [ 0.45454349]\n",
            " [ 0.55767592]]\n",
            "Index 11, Value: 3, Network Output: [[-0.01791708]\n",
            " [ 0.47981186]\n",
            " [ 0.56523748]]\n",
            "Index 14, Value: -1, Network Output: [[-0.00068496]\n",
            " [ 0.40049949]\n",
            " [ 0.54368439]]\n",
            "Index 14, Value: 1, Network Output: [[-0.0239416 ]\n",
            " [ 0.42342688]\n",
            " [ 0.55072878]]\n",
            "Index 19, Value: -1, Network Output: [[-0.02164526]\n",
            " [ 0.40303159]\n",
            " [ 0.54273155]]\n",
            "Index 19, Value: 1, Network Output: [[-0.00068496]\n",
            " [ 0.40049949]\n",
            " [ 0.54368439]]\n",
            "Index 23, Value: 1, Network Output: [[-0.00068496]\n",
            " [ 0.40049949]\n",
            " [ 0.54368439]]\n",
            "Index 23, Value: 2, Network Output: [[-0.00328005]\n",
            " [ 0.37275193]\n",
            " [ 0.53945538]]\n",
            "Index 23, Value: 3, Network Output: [[-0.00617193]\n",
            " [ 0.34452497]\n",
            " [ 0.53596383]]\n",
            "Index 23, Value: 4, Network Output: [[-0.00935454]\n",
            " [ 0.31593757]\n",
            " [ 0.53328485]]\n",
            "Index 23, Value: 5, Network Output: [[-0.01281582]\n",
            " [ 0.28709341]\n",
            " [ 0.53147151]]\n",
            "Index 23, Value: 6, Network Output: [[-0.01653626]\n",
            " [ 0.25808414]\n",
            " [ 0.5305512 ]]\n"
          ]
        }
      ],
      "source": [
        "# implement a way to modify the input at a given index with certain values\n",
        "# and to predict and print the network output for this modification\n",
        "def predict(idx, values, example, network, Theta):\n",
        "    for value in values:\n",
        "        mod_ex = example.copy()\n",
        "        mod_ex[idx,:] = value\n",
        "        Y, H = network(mod_ex, Theta)\n",
        "        print(f\"Index {idx}, Value: {value}, Network Output: {Y}\")\n",
        "\n",
        "# run this with the 4 modifications and their according to values as seen above\n",
        "predict(2, [-1, 1], example, network, Theta2)  # Gender modification\n",
        "predict(10, [1, 2, 3, 4], example, network, Theta2)  # Weekly study time modification\n",
        "predict(11, [0, 1, 2, 3], example, network, Theta2)  # Past failures modification\n",
        "predict(14, [-1, 1], example, network, Theta2)  # Additional classes modification\n",
        "predict(19, [-1, 1], example, network, Theta2)  # Romantic relations modification\n",
        "predict(23, [1, 2, 3, 4, 5, 6], example, network, Theta2)  # Weekday alcohol consumption modification\n"
      ]
    }
  ],
  "metadata": {
    "colab": {
      "provenance": []
    },
    "interpreter": {
      "hash": "2dd53f8ad749bca69f7250ce75eb4f0def59db5cf79075a9716322ffc58e8a2e"
    },
    "kernelspec": {
      "display_name": "Python 3.8.10 ('DL')",
      "language": "python",
      "name": "python3"
    },
    "language_info": {
      "codemirror_mode": {
        "name": "ipython",
        "version": 3
      },
      "file_extension": ".py",
      "mimetype": "text/x-python",
      "name": "python",
      "nbconvert_exporter": "python",
      "pygments_lexer": "ipython3",
      "version": "3.8.10"
    },
    "orig_nbformat": 4
  },
  "nbformat": 4,
  "nbformat_minor": 0
}