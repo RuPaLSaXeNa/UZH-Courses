{
  "cells": [
    {
      "cell_type": "markdown",
      "metadata": {
        "id": "pjmzpztfXRqM"
      },
      "source": [
        "# Assignment 1: Perceptron Learning\n",
        "\n",
        "The goal of this exercise is to apply the perceptron learning to a total of $N=100$ automatically generated, separable random data $X=\\bigl\\{\\vec x^1, \\vec x^2,\\ldots,\\vec x^ N \\bigr\\}$ with each $\\vec x^n = \\bigl(x_1^n, x_2^n\\bigr)^T$.\n",
        "Each data point $\\vec x^n$ is accompanied by an according target value $X=\\bigl\\{t^1, t^2,\\ldots,t^ N\\bigr\\}$ with $t^n \\in \\{-1,+1\\}$.\n",
        "\n",
        "## Data Generation\n",
        "The data should be generated such that\n",
        "$\\forall n\\leq\\frac N2\\colon \\vec x^n \\sim \\mathcal N_{\\vec\\mu_+, \\sigma_+}$.\n",
        "These samples will be our positive data labeled with $t^n=1$.\n",
        "Similarly, we generate our negative data with\n",
        "$\\forall n>\\frac N2\\colon \\vec x^n \\sim \\mathcal N_{\\vec\\mu_-, \\sigma_-}$\n",
        "and label them as $t^n=-1$.\n",
        "\n",
        "### Task 1: Data Samples\n",
        "\n",
        "Given the number of samples and the means (mu) and standard deviations (sigma) of positive (pos) and negative (neg) data, generate and return data samples including their labels. Remember to add the bias neuron $x_0=1$ to each of the samples.\n",
        "\n",
        "Hints:\n",
        "1. Use `numpy` package to generate data.\n",
        "2. Exemplary means could be selected as: $\\vec\\mu_+=(-5,3)^T$ and $\\vec\\mu_- = (5, -3)^T$. The standard deviations $\\sigma_+$ and $\\sigma_-$ should be selected such that the data is most likely separable."
      ]
    },
    {
      "cell_type": "code",
      "execution_count": 1,
      "metadata": {
        "id": "BQDWucpKXRqO"
      },
      "outputs": [],
      "source": [
        "import numpy as np\n",
        "\n",
        "def dataset(number_of_samples, mu_pos, sigma_pos, mu_neg, sigma_neg):\n",
        "  # create positive and negative data\n",
        "  positive_data = np.random.multivariate_normal(mu_pos, sigma_pos, size=number_of_samples)\n",
        "  negative_data = np.random.multivariate_normal(mu_neg, sigma_neg, size=number_of_samples)\n",
        "\n",
        "  # assign positive and negative labels\n",
        "  positive_labels = np.full(number_of_samples, 1)\n",
        "  negative_labels = np.full(number_of_samples, -1)\n",
        "\n",
        "  # concatenate positive and negative data\n",
        "  all_data = np.concatenate([positive_data, negative_data], axis=0)\n",
        "  all_labels = np.concatenate([positive_labels, negative_labels])\n",
        "\n",
        "  # anything else to consider?\n",
        "  all_data = np.concatenate([np.ones((2*number_of_samples, 1)), all_data], axis=1)\n",
        "\n",
        "  # return both X and T\n",
        "  return all_data, all_labels"
      ]
    },
    {
      "cell_type": "markdown",
      "metadata": {
        "id": "vbGf6is5XRqP"
      },
      "source": [
        "### Task 2: Select Data Parameters and Line Parameters\n",
        "\n",
        "We want to select data points such that we exactly know where the ideal separating line should be placed.\n",
        "Note that data samples are not always separable since they are generated randomly.\n",
        "You should determine, which means and standard deviations are useful.\n",
        "\n",
        "Once you have defined your means, you should also define the separating line.\n",
        "The easiest is to provide it as Cartesian equation: $w_0 + w_1 x_1 + w_2 x_2$.\n",
        "Note that the separating line is orthogonal to the vector $\\overrightarrow{\\vec\\mu_- \\vec\\mu_+}$, that the normal of the line $(w_1, w_2)^T$ is orthogonal to the line, and that $w_0$ should be selected such that the line $\\vec w$ is in the middle of $\\vec\\mu_+$ and $\\vec\\mu_-$."
      ]
    },
    {
      "cell_type": "code",
      "execution_count": 2,
      "metadata": {
        "id": "rAuFxE6XXRqP"
      },
      "outputs": [],
      "source": [
        "X, T = dataset(100, [-5, 3], np.eye(2), [5, -3], np.eye(2))\n",
        "w_manual = np.array([0, -1, 1])"
      ]
    },
    {
      "cell_type": "markdown",
      "metadata": {
        "id": "dhqJ_vXVXRqP"
      },
      "source": [
        "### Test 1: Linear Separability Test\n",
        "\n",
        "A line $a = f_{\\vec w}(\\vec x) = w_0 + w_1 x_1 + w_2 x_2$ linearly separates the data $(X,T)$ if $\\forall n: a^{[n]} t^{[n]} > 0$ for $a^{[n]} = f_{\\vec w}(\\vec x^{[n]})$.\n",
        "The below function implements this linear separability test. We apply this test to your data $(X,T)$ from Task 1 and your manually selected line $\\vec w$ from Task 2 to assure that the line separates the data."
      ]
    },
    {
      "cell_type": "code",
      "execution_count": 3,
      "metadata": {
        "id": "QOuvUqVOXRqP",
        "colab": {
          "base_uri": "https://localhost:8080/"
        },
        "outputId": "7f385783-2d1b-4dc9-b1cc-98f4f4165329"
      },
      "outputs": [
        {
          "output_type": "stream",
          "name": "stdout",
          "text": [
            "The data is separated by the manually selected line\n"
          ]
        }
      ],
      "source": [
        "import numpy\n",
        "\n",
        "def separability_test(X, T, w):\n",
        "  return numpy.all(numpy.dot(X,w) * T > 0)\n",
        "\n",
        "# Test 1: check that the weights are separating the data\n",
        "if separability_test(X, T, w_manual):\n",
        "  print(\"The data is separated by the manually selected line\")\n",
        "else:\n",
        "  print(\"The anually selected line does not separate the data\")"
      ]
    },
    {
      "cell_type": "markdown",
      "metadata": {
        "id": "KEM1CfybXRqQ"
      },
      "source": [
        "### Task 3: Perceptron\n",
        "\n",
        "The perceptron is defined as the Adaline $$a = f_{\\vec w}(\\vec x)$$ that is thresholded using the sign function $$\\mathrm{sign}(a) = \\begin{cases} +1 &\\text{if } a \\geq 0\\\\ -1 & \\text{otherwise.}\\end{cases}$$\n",
        "Implement a function that computes and returns the perceptron for a given data point $\\vec x$ and line parameters $\\vec w$."
      ]
    },
    {
      "cell_type": "code",
      "execution_count": 4,
      "metadata": {
        "id": "uHmxU13LXRqQ"
      },
      "outputs": [],
      "source": [
        "def perceptron(x, w):\n",
        "  return ((x@w >= 0).astype(int)-0.5)*2"
      ]
    },
    {
      "cell_type": "markdown",
      "metadata": {
        "id": "cMUxBqYQXRqQ"
      },
      "source": [
        "## Perceptron Learning\n",
        "\n",
        "The perceptron learning rule is defined as follows.\n",
        "First, the weights $\\vec w = (w_0, w_1, w_2)^T$ is initialized randomly.\n",
        "Then, for each sample $(x,t)$ of the dataset we check if the sample is correctly classified as $H(f_{\\vec w}(\\vec x)) t > 0$.\n",
        "If the sample is classified incorrectly, the weights are adapted: $w_0 = w_0 + t$, $w_1 = w_1 + tx_1$, $w_2 = w_2 + tx_2$.\n",
        "This step is repeated until all samples are classified correctly.\n",
        "\n",
        "\n",
        "### Task 4: Perceptron Learning Implementation\n",
        "\n",
        "Implement a function that performs perceptron learning for a given dataset $(X,T)$ and a given initial weight vector $\\vec w$.\n",
        "The final weight vector $\\vec w^*$ shall be returned from that function.\n",
        "Define a proper stopping criterion for the iteration.\n",
        "Consider in your implementation error cases that could arise.\n"
      ]
    },
    {
      "cell_type": "code",
      "execution_count": 5,
      "metadata": {
        "id": "YYa7cH2uXRqQ"
      },
      "outputs": [],
      "source": [
        "def perceptron_learning(X, T, w):\n",
        "  N = len(T)\n",
        "  # first, make a copy of your weights\n",
        "  w_star = w.copy()\n",
        "  corr_class = False\n",
        "  # then, iterate over the data and perform perceptron learning\n",
        "  while not corr_class:\n",
        "    inc_clas = (perceptron(X, w_star) != T)\n",
        "    grad_up = (T.reshape(1, -1)@(X*np.tile(inc_clas, (3, 1)).T)).flatten()\n",
        "    w_star = w_star + grad_up\n",
        "    corr_class = np.sum(inc_clas) == 0\n",
        "\n",
        "  # finally, return the optimal weights\n",
        "  return w_star\n",
        "w_star = perceptron_learning(X, T, w_manual)"
      ]
    },
    {
      "cell_type": "markdown",
      "metadata": {
        "id": "zylC7txOXRqR"
      },
      "source": [
        "### Test 2: Sanity Check\n",
        "\n",
        "We call the perceptron learning function with the data from task 1 and the manual line from task 2. If the line separates the data, it should not be changed. Here we test if this is the actual outcome of the perceptron learning function."
      ]
    },
    {
      "cell_type": "code",
      "execution_count": 6,
      "metadata": {
        "id": "-YZKwxM2XRqR",
        "colab": {
          "base_uri": "https://localhost:8080/"
        },
        "outputId": "bdc53c9b-9b96-48c2-fe82-91689d4ca379"
      },
      "outputs": [
        {
          "output_type": "stream",
          "name": "stdout",
          "text": [
            "As desired, perceptron learning does not optimize an already separating line\n"
          ]
        }
      ],
      "source": [
        "w_star = perceptron_learning(X, T, w_manual)\n",
        "\n",
        "# check if the output is as expected\n",
        "if numpy.any(w_manual != w_star):\n",
        "    print(\"Warning: the perceptron algorithm seems to be wrong\")\n",
        "else:\n",
        "    print(\"As desired, perceptron learning does not optimize an already separating line\")"
      ]
    },
    {
      "cell_type": "markdown",
      "metadata": {
        "id": "tjOhihKkXRqR"
      },
      "source": [
        "### Task 5: Weight Initialization\n",
        "\n",
        "Implement a function that generates and returns randomly initialized weights $\\vec w \\in [-1,1]^3$."
      ]
    },
    {
      "cell_type": "code",
      "execution_count": 7,
      "metadata": {
        "id": "MWtKJm1aXRqR"
      },
      "outputs": [],
      "source": [
        "def random_weights(lowest = -1, highest = 1):\n",
        "  return np.random.rand(3)*2 - 1"
      ]
    },
    {
      "cell_type": "markdown",
      "metadata": {
        "id": "lXO1INBOXRqR"
      },
      "source": [
        "### Task 6: Perceptron Learning Execution\n",
        "\n",
        "Call the perceptron learning function with the data from task 1 and the randomly generated initial weight vector from task 5.\n",
        "Store the resulting weight vector $\\vec w^*$."
      ]
    },
    {
      "cell_type": "code",
      "execution_count": 8,
      "metadata": {
        "id": "zg4RCO6kXRqR"
      },
      "outputs": [],
      "source": [
        "# create random weights\n",
        "w_initial = random_weights()\n",
        "\n",
        "# perform perceptron learning\n",
        "w_star = perceptron_learning(X, T, w_initial)"
      ]
    },
    {
      "cell_type": "markdown",
      "metadata": {
        "id": "EdiS81YcXRqS"
      },
      "source": [
        "### Test 3: Result Validation\n",
        "\n",
        "We verify that the optimized $\\vec w^*$ actually separates the data."
      ]
    },
    {
      "cell_type": "code",
      "execution_count": 9,
      "metadata": {
        "id": "xCtqYNNtXRqS",
        "colab": {
          "base_uri": "https://localhost:8080/"
        },
        "outputId": "5b58ac9a-c004-4442-d8c8-064ca8aa1d89"
      },
      "outputs": [
        {
          "output_type": "stream",
          "name": "stdout",
          "text": [
            "The data is separated by the optimal line\n"
          ]
        }
      ],
      "source": [
        "# verify that we have learned to separate the data\n",
        "if separability_test(X, T, w_star):\n",
        "  print(\"The data is separated by the optimal line\")\n",
        "else:\n",
        "  print(\"The optimal line does not separate the data\")"
      ]
    },
    {
      "cell_type": "markdown",
      "metadata": {
        "id": "X1k4DSy0XRqS"
      },
      "source": [
        "## Visualization\n",
        "\n",
        "We have selected our data to be 2-dimensional to be able to visualize the results.\n",
        "For this purpose, we would like to jointly plot the positive and the negative data from Task 1 together with the decision boundaries of the weight vectors obtained in Tasks 2 and 6.\n",
        "An example can be found in the exercise slides.\n",
        "\n",
        "### Task 7: Plotting\n",
        "\n",
        "First, we need to plot the data points such that positive data are plotted with green dots, and negative data with red dots.\n",
        "\n",
        "Then, we need to compute the line parameters. For this purpose, we define the separating line in Cartesian coordinates $f_{\\vec w}(\\vec x) = 0$ and solve it to the parametric form $x_2 = \\beta x_1 + \\gamma$."
      ]
    },
    {
      "cell_type": "code",
      "execution_count": 10,
      "metadata": {
        "id": "GERfV4PUXRqS",
        "colab": {
          "base_uri": "https://localhost:8080/",
          "height": 504
        },
        "outputId": "635740cb-74b8-4e16-9c3f-c272dc8a1353"
      },
      "outputs": [
        {
          "output_type": "display_data",
          "data": {
            "text/plain": [
              "<Figure size 720x576 with 1 Axes>"
            ],
            "image/png": "[encoded data removed]"
          },
          "metadata": {
            "needs_background": "light"
          }
        }
      ],
      "source": [
        "def line_parameters(w):\n",
        "  # compute parametric line parameters from Cartesian coordinates\n",
        "  beta = -w[1] / w[2]\n",
        "  gamma = -w[0] / w[2]\n",
        "  return beta, gamma\n",
        "\n",
        "\n",
        "from matplotlib import pyplot as plt\n",
        "import seaborn as sns\n",
        "\n",
        "# create a square plot\n",
        "fig, ax = plt.subplots(figsize=(10,8))\n",
        "# Set the style to use\n",
        "sns.set_style(\"darkgrid\")\n",
        "sns.set_context(\"talk\")\n",
        "\n",
        "# plot the positive data points\n",
        "ax.plot(X[:100,1], X[:100,2], \"go\", label=\"positive data\", alpha=0.5)\n",
        "# plot the negative data points\n",
        "ax.plot(X[100:, 1], X[100:, 2], \"ro\", label=\"negative data\", alpha=0.5)\n",
        "\n",
        "# define positions where to evaluate the line:\n",
        "x1 = np.linspace(-6, 6, 1000)\n",
        "\n",
        "# compute line parameters for manual line\n",
        "beta, gamma = line_parameters(w_manual)\n",
        "# compute the values according to our parametric form:\n",
        "x2 = beta * x1 + gamma\n",
        "# plot lines (might need to call this function twice for the two lines)\n",
        "ax.plot(x1, x2, \"m-\", label=\"manual line\", linewidth=2.5)\n",
        "\n",
        "# compute line parameters for optimized line\n",
        "beta, gamma = line_parameters(w_star)\n",
        "# now, compute the values according to our parametric form:\n",
        "x2 = beta * x1 + gamma\n",
        "# plot lines (might need to call this function twice for the two lines)\n",
        "ax.plot(x1, x2, \"b-\", label=\"optimized line\", linewidth=3)\n",
        "\n",
        "# make the plot more beautiful\n",
        "ax.set_xlabel(r\"$\\mathcal{X}_{1}$\", fontsize= 15)\n",
        "ax.set_ylabel(r\"$\\mathcal{X}_{2}$\", fontsize=15)\n",
        "ax.legend(fontsize=12)\n",
        "plt.show()"
      ]
    }
  ],
  "metadata": {
    "kernelspec": {
      "display_name": "DL",
      "language": "python",
      "name": "python3"
    },
    "language_info": {
      "codemirror_mode": {
        "name": "ipython",
        "version": 3
      },
      "file_extension": ".py",
      "mimetype": "text/x-python",
      "name": "python",
      "nbconvert_exporter": "python",
      "pygments_lexer": "ipython3",
      "version": "3.8.13"
    },
    "orig_nbformat": 4,
    "vscode": {
      "interpreter": {
        "hash": "a29cabff5744fce69e08a959ab87b9e77a9f67b498d08783caa8c3bb16f23a00"
      }
    },
    "colab": {
      "provenance": []
    }
  },
  "nbformat": 4,
  "nbformat_minor": 0
}