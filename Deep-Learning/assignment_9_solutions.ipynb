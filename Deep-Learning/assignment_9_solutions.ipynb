{
  "cells": [
    {
      "cell_type": "markdown",
      "metadata": {
        "id": "jDR8f9l2LrNu"
      },
      "source": [
        "# Assignment 9: Convolutional Auto-Encoder\n",
        "\n",
        "In this assignment, we show that it is possible to learn from unlabeled data using a convolutional auto-encoder network. \n",
        "The task is to reduce (a noisy version of) an image of the handwritten digits of MNIST into a deep feature representation, without making use of their labels, and reconstruct the sample from that representation.\n",
        "\n",
        "For this purpose, we implement a convolutional auto-encoder and a denoising auto-encoder that learn a $K=10$-dimensional deep feature representation of each image, and uses this representation to reconstruct images to the original size of $28\\times28$ pixels.\n",
        "We show that such a network can be used to denoise images."
      ]
    },
    {
      "cell_type": "markdown",
      "metadata": {
        "id": "EYyIQ7dufhHT"
      },
      "source": [
        "## Dataset\n",
        "\n",
        "We will make use of the default implementation of the `torchvision.datasets.MNIST` dataset. \n",
        "MNIST has 10 labels of digit images.\n",
        "However, besides the last task, we do not make use of the labels of the dataset, but we only utilize the images.\n",
        "We instantiate the training and test sets of MNIST -- again we will use the test set for validation purposes."
      ]
    },
    {
      "cell_type": "markdown",
      "metadata": {
        "id": "3_VRuI9Bfd1s"
      },
      "source": [
        "### Task 1: Datasets\n",
        "\n",
        "Instantiate the training and validation datasets of MNIST, i.e., split the training and validation sets, and make use of data loaders.\n",
        "Select a simple `ToTensor` transform.\n",
        "Instantiate a training data loader using a batch size of $B=32$, and a validation data loader with 100 samples in a batch."
      ]
    },
    {
      "cell_type": "code",
      "execution_count": 1,
      "metadata": {
        "id": "EW5O0-dvLrNw",
        "colab": {
          "base_uri": "https://localhost:8080/"
        },
        "outputId": "524a1ec9-2543-422d-8480-2b2baa1c629c"
      },
      "outputs": [
        {
          "output_type": "stream",
          "name": "stdout",
          "text": [
            "Downloading http://yann.lecun.com/exdb/mnist/train-images-idx3-ubyte.gz\n",
            "Downloading http://yann.lecun.com/exdb/mnist/train-images-idx3-ubyte.gz to /temp/MNIST/MNIST/raw/train-images-idx3-ubyte.gz\n"
          ]
        },
        {
          "output_type": "stream",
          "name": "stderr",
          "text": [
            "100%|██████████| 9912422/9912422 [00:00<00:00, 96010269.97it/s]\n"
          ]
        },
        {
          "output_type": "stream",
          "name": "stdout",
          "text": [
            "Extracting /temp/MNIST/MNIST/raw/train-images-idx3-ubyte.gz to /temp/MNIST/MNIST/raw\n",
            "\n",
            "Downloading http://yann.lecun.com/exdb/mnist/train-labels-idx1-ubyte.gz\n",
            "Downloading http://yann.lecun.com/exdb/mnist/train-labels-idx1-ubyte.gz to /temp/MNIST/MNIST/raw/train-labels-idx1-ubyte.gz\n"
          ]
        },
        {
          "output_type": "stream",
          "name": "stderr",
          "text": [
            "100%|██████████| 28881/28881 [00:00<00:00, 27815314.31it/s]\n"
          ]
        },
        {
          "output_type": "stream",
          "name": "stdout",
          "text": [
            "Extracting /temp/MNIST/MNIST/raw/train-labels-idx1-ubyte.gz to /temp/MNIST/MNIST/raw\n",
            "\n",
            "Downloading http://yann.lecun.com/exdb/mnist/t10k-images-idx3-ubyte.gz\n",
            "Downloading http://yann.lecun.com/exdb/mnist/t10k-images-idx3-ubyte.gz to /temp/MNIST/MNIST/raw/t10k-images-idx3-ubyte.gz\n"
          ]
        },
        {
          "output_type": "stream",
          "name": "stderr",
          "text": [
            "100%|██████████| 1648877/1648877 [00:00<00:00, 27287758.58it/s]\n"
          ]
        },
        {
          "output_type": "stream",
          "name": "stdout",
          "text": [
            "Extracting /temp/MNIST/MNIST/raw/t10k-images-idx3-ubyte.gz to /temp/MNIST/MNIST/raw\n",
            "\n",
            "Downloading http://yann.lecun.com/exdb/mnist/t10k-labels-idx1-ubyte.gz\n",
            "Downloading http://yann.lecun.com/exdb/mnist/t10k-labels-idx1-ubyte.gz to /temp/MNIST/MNIST/raw/t10k-labels-idx1-ubyte.gz\n"
          ]
        },
        {
          "output_type": "stream",
          "name": "stderr",
          "text": [
            "100%|██████████| 4542/4542 [00:00<00:00, 6757903.07it/s]\n"
          ]
        },
        {
          "output_type": "stream",
          "name": "stdout",
          "text": [
            "Extracting /temp/MNIST/MNIST/raw/t10k-labels-idx1-ubyte.gz to /temp/MNIST/MNIST/raw\n",
            "\n"
          ]
        }
      ],
      "source": [
        "import torch\n",
        "import torchvision\n",
        "\n",
        "# training set and data loader\n",
        "transform = torchvision.transforms.ToTensor()\n",
        "train_set = torchvision.datasets.MNIST(root=\"/temp/MNIST\", train=True, download=True, transform=transform)\n",
        "train_loader = torch.utils.data.DataLoader(train_set, shuffle=True, batch_size=32)\n",
        "\n",
        "# validation set and data loader\n",
        "validation_set = torchvision.datasets.MNIST(root=\"/temp/MNIST\", train=False, download=True, transform=transform)\n",
        "validation_loader = torch.utils.data.DataLoader(validation_set, shuffle=False, batch_size=100)"
      ]
    },
    {
      "cell_type": "markdown",
      "metadata": {
        "id": "oJzhaUraSpPG"
      },
      "source": [
        "### Task 2: Random Noise\n",
        "\n",
        "Implement a function to generate noisy images by adding a uniform noise to the clean images:\n",
        "\n",
        "$$\\mathbf X_{\\mathrm{noise}} = \\mathbf X + \\alpha \\mathbf U^{D\\times E}$$ \n",
        "\n",
        "where $\\mathbf U$ is a tensor with entries generated from a uniform distribution between $-1$ and $1$. \n",
        "$D=E=28$ are the width and the height of the original image. \n",
        "To represent actual images, we will restrict the pixel values of $\\mathbf X_{\\mathrm{noise}}$ to be in the range $[0,1]$ by clipping any value that is outside that range.\n",
        "\n",
        "Note that this function will also be used with batches of samples."
      ]
    },
    {
      "cell_type": "code",
      "execution_count": 2,
      "metadata": {
        "id": "N_DefcwdSpPH"
      },
      "outputs": [],
      "source": [
        "def noise(x, alpha=0.5):\n",
        "  # generate noise \n",
        "  N = x+alpha*torch.FloatTensor(28, 28).uniform_(-1, 1)\n",
        "  # Add noise and clamp\n",
        "  noisy_sample = torch.clamp(N, min=0, max=1)\n",
        "  return noisy_sample"
      ]
    },
    {
      "cell_type": "markdown",
      "metadata": {
        "id": "_6QRshMXgHoc"
      },
      "source": [
        "### Noisy Image Visualization\n",
        "\n",
        "Here we just assure that the images are correct, by displaying them to you."
      ]
    },
    {
      "cell_type": "code",
      "execution_count": 3,
      "metadata": {
        "id": "KW3QT2jVgLFM",
        "colab": {
          "base_uri": "https://localhost:8080/",
          "height": 262
        },
        "outputId": "c345a937-8617-4a5a-cc21-8fe865831ad5"
      },
      "outputs": [
        {
          "output_type": "display_data",
          "data": {
            "text/plain": [
              "<Figure size 640x480 with 2 Axes>"
            ],
            "image/png": "[encoded data removed]"
          },
          "metadata": {}
        }
      ],
      "source": [
        "# get first validation image\n",
        "input = validation_set[0][0]\n",
        "\n",
        "# generate noise image\n",
        "noisy = noise(input)\n",
        "\n",
        "# plot images\n",
        "from matplotlib import pyplot\n",
        "pyplot.rcParams['image.cmap'] = 'gray'\n",
        "\n",
        "fig, ax = pyplot.subplots(1, 2)\n",
        "ax[0].imshow(input.squeeze())\n",
        "ax[0].axis(\"off\")\n",
        "ax[1].imshow(noisy.squeeze())\n",
        "ax[1].axis(\"off\")\n",
        "pyplot.show()"
      ]
    },
    {
      "cell_type": "markdown",
      "metadata": {
        "id": "392dfD3Xht-h"
      },
      "source": [
        "## Auto-Encoder Network\n",
        "\n",
        "The auto-encoder network is composed of two parts: the encoder that transforms the input image to a deep feature representation; and the decoder that produces an image from such a deep feature.\n",
        "\n",
        "For the encoder $\\mathcal E$, we will basically use the same convolutional network topology as in the last assignment.\n",
        "An exception is that we perform our down-sampling via striding and not via pooling.\n",
        "After each convolution, we apply the ReLU activation.\n",
        "The output of the encoder is a $K=10$ dimensional deep feature representation.\n",
        "The complete encoder network topology can be found below in Topology 1(a).\n",
        "\n",
        "The decoder $\\mathcal D$ performs the inverse operations of the encoder.\n",
        "A fully-connected layer is used to increase the number of samples to the same size as the output of the flattening of the encoder.\n",
        "Then, a ReLU activation is applied. \n",
        "The flattening needs to be undone next by reshaping the vector into the correct dimensionality.\n",
        "A fractionally-strided convolutional layer increases the intermediate representation by a factor of 2.\n",
        "Note that the fractionally-strided convolution is implemented in `torch.nn.ConvTranspose2d`, and the `stride` parameter should have the same value as for the encoder.\n",
        "Additionally, the `torch.nn.ConvTranspose2d` has a parameter `output_padding` which needs to be adapted to reach the correct output shape (see Test 1).\n",
        "After this layer, we perform another ReLU activation and another fractionally-strided convolution to arrive at the original input dimension.\n",
        "The complete decoder network topology can be found below in Topology 1(b).\n",
        "\n",
        "Finally, we combine the two sub-networks into one auto-encoder network.\n",
        "While there exist several possibilities for doing this, we will implement a third `torch.nn.Module` that contains an instance of the encoder and an instance of the decoder."
      ]
    },
    {
      "cell_type": "markdown",
      "metadata": {
        "id": "iDSQU7nvluAM"
      },
      "source": [
        "Topology 1: Network configurations of the (a) encoder and (b) decoder networks\n",
        "\n",
        "(a) Encoder Network\n",
        "\n",
        "*   2D convolutional layer with $Q_1$ channels, kernel size $5\\times5$, **stride 2** and padding 2\n",
        "*   activation function ReLU\n",
        "*   2D convolutional layer with $Q_2$ channels, kernel size $5\\times5$, **stride 2** and padding 2\n",
        "*   flatten layer to convert the convolution output into a vector\n",
        "*   activation function ReLU\n",
        "*   fully-connected layer with the correct number of inputs and $K$ outputs\n",
        "\n",
        "(b) Encoder Network\n",
        "\n",
        "*   fully-connected layer with $K$ inputs and the correct number of outputs\n",
        "*   activation function ReLU\n",
        "*   reshaping to convert the vector into a convolution input\n",
        "*   2D **fractionally-strided convolutional** layer with $Q_2$ channels, kernel size $5\\times5$, stride 2 and padding 2\n",
        "*   activation function ReLU\n",
        "*   2D **fractionally-strided convolutional** layer with $Q_1$ channels, kernel size $5\\times5$, stride 2 and padding 2"
      ]
    },
    {
      "cell_type": "markdown",
      "metadata": {
        "id": "sulFbFbPLrNx"
      },
      "source": [
        "### Task 3: Encoder Network\n",
        "\n",
        "Implement the encoder network for given parameters $Q_1$, $Q_2$, and $K$ as given in Topology 1(a).\n",
        "Implement a network class that derives from `torch.nn.Module` and implement the `__init__` and the `forward` methods."
      ]
    },
    {
      "cell_type": "code",
      "execution_count": 107,
      "metadata": {
        "id": "IASbngJNLrNy"
      },
      "outputs": [],
      "source": [
        "class Encoder (torch.nn.Module):\n",
        "  def __init__(self, Q1, Q2, K):\n",
        "    # call base class constrcutor\n",
        "    super(Encoder,self).__init__()\n",
        "    # convolutional define layers\n",
        "    self.conv1 = torch.nn.Conv2d(1, Q1, 5, stride=2, padding=2)\n",
        "    self.conv2 = torch.nn.Conv2d(Q1, Q2, 5, stride=2, padding=2)\n",
        "    # activation functions will be re-used for the different stages\n",
        "    self.act = torch.nn.ReLU()\n",
        "    # define fully-connected layers\n",
        "    self.flatten = torch.nn.Flatten()\n",
        "    self.fc = torch.nn.Linear(1568, K)\n",
        "\n",
        "  def forward(self, x):\n",
        "    # get the deep feature representation\n",
        "    a = self.conv1(x)\n",
        "    a = self.act(a)\n",
        "    a = self.conv2(a)\n",
        "    a = self.flatten(a)\n",
        "    a = self.act(a)\n",
        "    deep_feature = self.fc(a)\n",
        "    return deep_feature"
      ]
    },
    {
      "cell_type": "markdown",
      "metadata": {
        "id": "6OH24In8LrNy"
      },
      "source": [
        "### Task 4: Decoder Network\n",
        "\n",
        "Implement the decoder network for given parameters $Q_1$, $Q_2$, and $K$ as given in Topology 1(b).\n",
        "Implement a network class that derives from `torch.nn.Module` and implement the `__init__` and the `forward` methods.\n",
        "The output of the decoder network is supposed to have values in the range $[0,1]$, similar to the input values.\n",
        "We need to make sure that only these values can be achieved.\n",
        "Think of possible ways of doing that, and apply the way that seems most reasonable."
      ]
    },
    {
      "cell_type": "code",
      "execution_count": 151,
      "metadata": {
        "id": "YTiDRV5tLrNz"
      },
      "outputs": [],
      "source": [
        "class Decoder (torch.nn.Module):\n",
        "  def __init__(self, Q1, Q2, K):\n",
        "    # call base class constrcutor\n",
        "    super(Decoder,self).__init__()\n",
        "    # fully-connected layer\n",
        "    self.fc = torch.nn.Linear(K, 1568)\n",
        "    # convolutional layers\n",
        "    self.deconv1 = torch.nn.ConvTranspose2d(Q2, Q1, 5, stride=2, padding=2, output_padding=1)\n",
        "    self.deconv2 = torch.nn.ConvTranspose2d(Q1, 1, 5, stride=2, padding=2, output_padding=1)\n",
        "    # activation function\n",
        "    self.act = torch.nn.ReLU()\n",
        "\n",
        "  def forward(self, x):\n",
        "    # reconstruct the output image\n",
        "    ab = self.fc(x)\n",
        "    ab = self.act(ab)\n",
        "    ab = torch.reshape(ab, (ab.shape[0],32,7,7))\n",
        "    ab = self.deconv1(ab)\n",
        "    ab = self.act(ab)\n",
        "    ab = self.deconv2(ab)\n",
        "    output = torch.sigmoid(ab)\n",
        "    return output"
      ]
    },
    {
      "cell_type": "markdown",
      "metadata": {
        "id": "Ph6VHeFJLrNz"
      },
      "source": [
        "### Task 5: Joint Auto-Encoder Network\n",
        "\n",
        "Implement the auto-encoder network by combining the encoder and the decoder.\n",
        "In the `__init__` function, instantiate an encoder from Task 3 and a decoder from Task 4.\n",
        "In `forward`, pass the input through the encoder and the decoder: $\\mathbf Y = \\mathcal D(\\mathcal E(\\mathbf X))$"
      ]
    },
    {
      "cell_type": "code",
      "execution_count": 153,
      "metadata": {
        "id": "DYdl42m3LrN0"
      },
      "outputs": [],
      "source": [
        "class AutoEncoder(torch.nn.Module):\n",
        "  def __init__(self, Q1, Q2, K):\n",
        "    super(AutoEncoder,self).__init__()\n",
        "    self.encoder = Encoder(Q1, Q2, K)\n",
        "    self.decoder = Decoder(Q1, Q2, K)\n",
        "\n",
        "  def forward(self,x):\n",
        "    # encode input\n",
        "    deep_feature = self.encoder.forward(x)\n",
        "\n",
        "    # decode to output\n",
        "    reconstructed = self.decoder.forward(deep_feature)\n",
        "    return reconstructed"
      ]
    },
    {
      "cell_type": "markdown",
      "metadata": {
        "id": "RmZrCO0hLrN0"
      },
      "source": [
        "### Test 1: Output Sizes\n",
        "\n",
        "The code below instantiates the auto-encoder network with $Q_1 = Q_2 = 32$ and $K=10$. \n",
        "Then the given input $\\mathbf X$ is provided to the (untrained) auto-encoder network.\n",
        "Use this code to verify that the deep feature extracted by the encoder and the output from the decoder part both have the desired size. \n",
        "Also, we verify that the output values are between 0 and 1.\n",
        "\n",
        "If the tests cannot be passed, please check the implementations in Task 3, 4, and 5."
      ]
    },
    {
      "cell_type": "code",
      "execution_count": 154,
      "metadata": {
        "id": "yLttmKotLrN1"
      },
      "outputs": [],
      "source": [
        "# run on cuda device?\n",
        "device = torch.device(\"cuda\")\n",
        "# create network\n",
        "network = AutoEncoder(32, 32, 10).to(device)\n",
        "\n",
        "# create or select a sample\n",
        "x = torch.randn((1,1,28,28))\n",
        "\n",
        "# use encoder to encode image and check its size\n",
        "deep_features = network.encoder(x.to(device))\n",
        "assert deep_features.shape[1] == 10\n",
        "\n",
        "# use decoder to generate an image and check its size and value range\n",
        "output = network.decoder(deep_features)\n",
        "assert output.shape[2:] == (28,28)\n",
        "assert torch.all(output >= 0) and torch.all(output <= 1)"
      ]
    },
    {
      "cell_type": "markdown",
      "metadata": {
        "id": "Ped3OmgBi5lD"
      },
      "source": [
        "## Training and Evaluation\n",
        "We will implement two training procedures, a simple auto-encoder network and a denoising auto-encoder network, which should be combined into one function.\n",
        "To train the network, we will use the $L_2$ distance between the output and the input of the network as a loss function, which is implemented in `torch.nn.MSELoss`:\n",
        "\n",
        "  $$\\mathcal J^{L_2} (\\mathbf X, \\mathbf Y) = \\|\\mathbf X - \\mathbf Y\\|^2$$\n",
        "\n",
        "For optimization, we will make use of the `Adam` optimizer with a learning rate of $\\eta=0.001$.\n",
        "We will run the training for 10 epochs and compute training and validation set loss after each epoch.\n",
        "\n",
        "Denoising training requires generating noisy images before forwarding them into the network and taking the loss between output and the clean image.\n",
        "\n",
        "For evaluation, we will check whether some of the validation set samples are correctly reconstructed from the auto-encoder network and whether the noise is removed from the denoising network.\n",
        "\n"
      ]
    },
    {
      "cell_type": "markdown",
      "metadata": {
        "id": "dhJJQpLVSpPH"
      },
      "source": [
        "### Task 6: Training Loop\n",
        "\n",
        "For a given network and learning rate, implement a function that initiates loss function (`torch.nn.MSELoss`), optimizer, and trains the network for 10 epochs on the training data.\n",
        "If parameter `denoise` is `True`, generate noisy batch with factor `alpha`.\n",
        "Compute the running average of the training loss for each epoch.\n",
        "At the end of each epoch, also compute the validation set loss."
      ]
    },
    {
      "cell_type": "code",
      "execution_count": 155,
      "metadata": {
        "id": "kx-zo0jXLrN1"
      },
      "outputs": [],
      "source": [
        "def training_loop(network, lr=0.001, denoise=False, alpha=0.5):\n",
        "  # define optimizer\n",
        "  optimizer = torch.optim.Adam(params=network.parameters(),lr=lr)\n",
        "\n",
        "  # define loss function\n",
        "  loss = torch.nn.MSELoss()\n",
        "  network.to(device)\n",
        "\n",
        "  for epoch in range(10):\n",
        "    # evaluate average loss for training and validation set\n",
        "    train_loss = validation_loss = 0.\n",
        "    network.train()\n",
        "  \n",
        "    for x,_ in train_loader:\n",
        "      optimizer.zero_grad()\n",
        "      # generate noise images by factor alpha as input if denoise is True\n",
        "      if denoise:\n",
        "        x = noise(x)\n",
        "\n",
        "      x = x.to(device)\n",
        "\n",
        "      # compute network output\n",
        "      y = network.forward(x)\n",
        "\n",
        "      # compute loss between output and input\n",
        "      J = loss(y,x)\n",
        "\n",
        "      # perform update\n",
        "      J.backward()\n",
        "      optimizer.step()\n",
        "\n",
        "      # accumulate loss\n",
        "      train_loss += J.to(\"cpu\")\n",
        "\n",
        "    # compute validation loss\n",
        "    network.eval()\n",
        "    with torch.no_grad():\n",
        "      for x,t in validation_loader:\n",
        "        # generate noise images by factor alpha as input if denoise is True\n",
        "        if denoise:\n",
        "          x = noise(x)\n",
        "\n",
        "        x = x.to(device)\n",
        "\n",
        "        # compute network output\n",
        "        y = network.forward(x)\n",
        "\n",
        "        # compute loss\n",
        "        J = loss(y,x)\n",
        "\n",
        "        # accumulate loss\n",
        "        validation_loss += J.to(\"cpu\")\n",
        "\n",
        "\n",
        "    # print average loss for training and validation\n",
        "    print(f\"\\rEpoch {epoch+1}; train: {train_loss/len(train_set):1.5f}, val: {validation_loss/len(validation_set):1.5f}\")\n",
        "  return network"
      ]
    },
    {
      "cell_type": "markdown",
      "metadata": {
        "id": "aOTDzpzugjGs"
      },
      "source": [
        "### Task 7: Training of two Networks\n",
        "\n",
        "Instantiate two `AutoEncoder` networks, one to train with only clean samples, and one to train with noisy images. Call the training loop for each network.\n",
        "\n",
        "Note: If the training loss and validation loss do not decrease during training, try to reduce the learning rate (to $\\eta=0.0005$ or even lower) and restart the training.\n",
        "You will need to re-initialize the network, too."
      ]
    },
    {
      "cell_type": "code",
      "execution_count": 161,
      "metadata": {
        "id": "HiN0hu4HgtgZ",
        "outputId": "c8fc3f13-1786-485e-ea83-cb7e977913dc",
        "colab": {
          "base_uri": "https://localhost:8080/"
        }
      },
      "outputs": [
        {
          "output_type": "stream",
          "name": "stdout",
          "text": [
            "Epoch 1; train: 0.00308, val: 0.00070\n",
            "Epoch 2; train: 0.00214, val: 0.00068\n",
            "Epoch 3; train: 0.00203, val: 0.00060\n",
            "Epoch 4; train: 0.00165, val: 0.00047\n",
            "Epoch 5; train: 0.00137, val: 0.00041\n",
            "Epoch 6; train: 0.00125, val: 0.00038\n",
            "Epoch 7; train: 0.00118, val: 0.00036\n",
            "Epoch 8; train: 0.00113, val: 0.00035\n",
            "Epoch 9; train: 0.00109, val: 0.00034\n",
            "Epoch 10; train: 0.00107, val: 0.00033\n"
          ]
        }
      ],
      "source": [
        "# define network\n",
        "network1 = AutoEncoder(32, 32, 10)\n",
        "\n",
        "# perform auto-encoder training \n",
        "network1 = training_loop(network1, lr=0.00001, denoise=False)"
      ]
    },
    {
      "cell_type": "code",
      "execution_count": 165,
      "metadata": {
        "id": "CYFsBnXR-iBi",
        "outputId": "51119661-8bf2-4369-ef92-8db375eb2864",
        "colab": {
          "base_uri": "https://localhost:8080/"
        }
      },
      "outputs": [
        {
          "output_type": "stream",
          "name": "stdout",
          "text": [
            "Epoch 1; train: 0.00156, val: 0.00043\n",
            "Epoch 2; train: 0.00130, val: 0.00041\n",
            "Epoch 3; train: 0.00126, val: 0.00040\n",
            "Epoch 4; train: 0.00124, val: 0.00039\n",
            "Epoch 5; train: 0.00122, val: 0.00039\n",
            "Epoch 6; train: 0.00121, val: 0.00038\n",
            "Epoch 7; train: 0.00121, val: 0.00039\n",
            "Epoch 8; train: 0.00120, val: 0.00038\n",
            "Epoch 9; train: 0.00119, val: 0.00038\n",
            "Epoch 10; train: 0.00119, val: 0.00038\n"
          ]
        }
      ],
      "source": [
        "# define network\n",
        "network2 = AutoEncoder(32, 32, 10)\n",
        "\n",
        "# perform denoising auto-encoder training \n",
        "network2 = training_loop(network2, denoise=True)"
      ]
    },
    {
      "cell_type": "markdown",
      "metadata": {
        "id": "H2wfOMLWLrN2"
      },
      "source": [
        "### Task 8: Reconstruction Result\n",
        "\n",
        "This task is to visualize the reconstructed images from their originals.\n",
        "For this purpose, select one image for each label from the first batch of the validation set. \n",
        "Generate the noisy input by Task 2.\n",
        "\n",
        "Forward the clean images through the trained auto-encoder network to extract their reconstructions. \n",
        "Forward the noisy inputs through the trained denoising network to remove noise.\n",
        "\n",
        "To show the difference, plot the original sample, reconstructed sample, noisy sample, and denoised sample for one label in one column. \n",
        "Make a single plot with 4 rows and 10 columns. \n",
        "See the reference plot in the slides."
      ]
    },
    {
      "cell_type": "code",
      "execution_count": 166,
      "metadata": {
        "id": "YiliTlgkyDUu",
        "outputId": "954a4e76-4464-46fa-e5ad-3d847d8886ea",
        "colab": {
          "base_uri": "https://localhost:8080/",
          "height": 497
        }
      },
      "outputs": [
        {
          "output_type": "display_data",
          "data": {
            "text/plain": [
              "<Figure size 1500x600 with 40 Axes>"
            ],
            "image/png": "[encoded data removed]"
          },
          "metadata": {}
        }
      ],
      "source": [
        "# get first validation set batch\n",
        "x,t = next(iter(validation_loader))\n",
        "\n",
        "# select one image for each label\n",
        "images = []\n",
        "for idx in range(10):\n",
        "  image = x[t==idx][0]\n",
        "  images.append(image)\n",
        "\n",
        "# If required, convert the list of select images into tensor through torch.stack\n",
        "original = torch.stack(images)\n",
        "# compute reconstructed samples\n",
        "reconstructed = network1.forward(original.to(device)).detach().cpu().numpy()\n",
        "# generate noisy samples\n",
        "noisy = noise(original)\n",
        "# compute denoised samples\n",
        "denoised = network2.forward(noisy.to(device)).detach().cpu().numpy()\n",
        "\n",
        "samples = [original, reconstructed, noisy, denoised]\n",
        "\n",
        "# plot images\n",
        "from matplotlib import pyplot\n",
        "pyplot.rcParams['image.cmap'] = 'gray'\n",
        "\n",
        "fig, axes = pyplot.subplots(nrows=4, ncols=10, figsize=(15, 6))\n",
        "\n",
        "for i in range(4):\n",
        "  for j in range(10):\n",
        "    axes[i][j].imshow(samples[i][j].squeeze())\n",
        "    axes[i][j].axis(\"off\")"
      ]
    }
  ],
  "metadata": {
    "accelerator": "GPU",
    "colab": {
      "provenance": [],
      "gpuType": "T4"
    },
    "gpuClass": "standard",
    "interpreter": {
      "hash": "2dd53f8ad749bca69f7250ce75eb4f0def59db5cf79075a9716322ffc58e8a2e"
    },
    "kernelspec": {
      "display_name": "Python 3.8.10 ('DL')",
      "language": "python",
      "name": "python3"
    },
    "language_info": {
      "codemirror_mode": {
        "name": "ipython",
        "version": 3
      },
      "file_extension": ".py",
      "mimetype": "text/x-python",
      "name": "python",
      "nbconvert_exporter": "python",
      "pygments_lexer": "ipython3",
      "version": "3.8.10"
    },
    "orig_nbformat": 4
  },
  "nbformat": 4,
  "nbformat_minor": 0
}